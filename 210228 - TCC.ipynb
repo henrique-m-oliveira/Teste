{
 "cells": [
  {
   "cell_type": "code",
   "execution_count": 1,
   "metadata": {},
   "outputs": [],
   "source": [
    "import pandas as pd"
   ]
  },
  {
   "cell_type": "code",
   "execution_count": 2,
   "metadata": {},
   "outputs": [],
   "source": [
    "df_consulta = pd.read_csv(\"consulta_cand_2018_BRASIL.csv\", encoding = \"Latin 1\", sep = \";\", decimal = ',')"
   ]
  },
  {
   "cell_type": "code",
   "execution_count": 3,
   "metadata": {},
   "outputs": [
    {
     "name": "stdout",
     "output_type": "stream",
     "text": [
      "<class 'pandas.core.frame.DataFrame'>\n",
      "RangeIndex: 29145 entries, 0 to 29144\n",
      "Data columns (total 58 columns):\n",
      "DT_GERACAO                       29145 non-null object\n",
      "HH_GERACAO                       29145 non-null object\n",
      "ANO_ELEICAO                      29145 non-null int64\n",
      "CD_TIPO_ELEICAO                  29145 non-null int64\n",
      "NM_TIPO_ELEICAO                  29145 non-null object\n",
      "NR_TURNO                         29145 non-null int64\n",
      "CD_ELEICAO                       29145 non-null int64\n",
      "DS_ELEICAO                       29145 non-null object\n",
      "DT_ELEICAO                       29145 non-null object\n",
      "TP_ABRANGENCIA                   29145 non-null object\n",
      "SG_UF                            29145 non-null object\n",
      "SG_UE                            29145 non-null object\n",
      "NM_UE                            29145 non-null object\n",
      "CD_CARGO                         29145 non-null int64\n",
      "DS_CARGO                         29145 non-null object\n",
      "SQ_CANDIDATO                     29145 non-null int64\n",
      "NR_CANDIDATO                     29145 non-null int64\n",
      "NM_CANDIDATO                     29145 non-null object\n",
      "NM_URNA_CANDIDATO                29145 non-null object\n",
      "NM_SOCIAL_CANDIDATO              29145 non-null object\n",
      "NR_CPF_CANDIDATO                 29145 non-null int64\n",
      "NM_EMAIL                         29145 non-null object\n",
      "CD_SITUACAO_CANDIDATURA          29145 non-null int64\n",
      "DS_SITUACAO_CANDIDATURA          29145 non-null object\n",
      "CD_DETALHE_SITUACAO_CAND         29145 non-null int64\n",
      "DS_DETALHE_SITUACAO_CAND         29145 non-null object\n",
      "TP_AGREMIACAO                    29145 non-null object\n",
      "NR_PARTIDO                       29145 non-null int64\n",
      "SG_PARTIDO                       29145 non-null object\n",
      "NM_PARTIDO                       29145 non-null object\n",
      "SQ_COLIGACAO                     29145 non-null int64\n",
      "NM_COLIGACAO                     29145 non-null object\n",
      "DS_COMPOSICAO_COLIGACAO          29145 non-null object\n",
      "CD_NACIONALIDADE                 29145 non-null int64\n",
      "DS_NACIONALIDADE                 29145 non-null object\n",
      "SG_UF_NASCIMENTO                 29145 non-null object\n",
      "CD_MUNICIPIO_NASCIMENTO          29145 non-null int64\n",
      "NM_MUNICIPIO_NASCIMENTO          29145 non-null object\n",
      "DT_NASCIMENTO                    29145 non-null object\n",
      "NR_IDADE_DATA_POSSE              29145 non-null int64\n",
      "NR_TITULO_ELEITORAL_CANDIDATO    29145 non-null int64\n",
      "CD_GENERO                        29145 non-null int64\n",
      "DS_GENERO                        29145 non-null object\n",
      "CD_GRAU_INSTRUCAO                29145 non-null int64\n",
      "DS_GRAU_INSTRUCAO                29145 non-null object\n",
      "CD_ESTADO_CIVIL                  29145 non-null int64\n",
      "DS_ESTADO_CIVIL                  29145 non-null object\n",
      "CD_COR_RACA                      29145 non-null int64\n",
      "DS_COR_RACA                      29145 non-null object\n",
      "CD_OCUPACAO                      29145 non-null int64\n",
      "DS_OCUPACAO                      29145 non-null object\n",
      "NR_DESPESA_MAX_CAMPANHA          29145 non-null int64\n",
      "CD_SIT_TOT_TURNO                 29145 non-null int64\n",
      "DS_SIT_TOT_TURNO                 29145 non-null object\n",
      "ST_REELEICAO                     29145 non-null object\n",
      "ST_DECLARAR_BENS                 29145 non-null object\n",
      "NR_PROTOCOLO_CANDIDATURA         29145 non-null int64\n",
      "NR_PROCESSO                      29145 non-null int64\n",
      "dtypes: int64(25), object(33)\n",
      "memory usage: 12.9+ MB\n"
     ]
    }
   ],
   "source": [
    "df_consulta.info()"
   ]
  },
  {
   "cell_type": "code",
   "execution_count": 4,
   "metadata": {},
   "outputs": [
    {
     "data": {
      "text/plain": [
       "array(['DEPUTADO ESTADUAL', 'DEPUTADO FEDERAL', 'VICE-GOVERNADOR',\n",
       "       '2º SUPLENTE', 'SENADOR', '1º SUPLENTE', 'DEPUTADO DISTRITAL',\n",
       "       'GOVERNADOR', 'PRESIDENTE', 'VICE-PRESIDENTE'], dtype=object)"
      ]
     },
     "execution_count": 4,
     "metadata": {},
     "output_type": "execute_result"
    }
   ],
   "source": [
    "df_consulta['DS_CARGO'].unique()"
   ]
  },
  {
   "cell_type": "code",
   "execution_count": 5,
   "metadata": {},
   "outputs": [],
   "source": [
    "df_consulta = df_consulta[df_consulta.DS_CARGO.isin(['DEPUTADO ESTADUAL',\n",
    "                                                     'DEPUTADO FEDERAL'])]"
   ]
  },
  {
   "cell_type": "code",
   "execution_count": 6,
   "metadata": {},
   "outputs": [
    {
     "name": "stdout",
     "output_type": "stream",
     "text": [
      "<class 'pandas.core.frame.DataFrame'>\n",
      "Int64Index: 26529 entries, 0 to 29144\n",
      "Data columns (total 58 columns):\n",
      "DT_GERACAO                       26529 non-null object\n",
      "HH_GERACAO                       26529 non-null object\n",
      "ANO_ELEICAO                      26529 non-null int64\n",
      "CD_TIPO_ELEICAO                  26529 non-null int64\n",
      "NM_TIPO_ELEICAO                  26529 non-null object\n",
      "NR_TURNO                         26529 non-null int64\n",
      "CD_ELEICAO                       26529 non-null int64\n",
      "DS_ELEICAO                       26529 non-null object\n",
      "DT_ELEICAO                       26529 non-null object\n",
      "TP_ABRANGENCIA                   26529 non-null object\n",
      "SG_UF                            26529 non-null object\n",
      "SG_UE                            26529 non-null object\n",
      "NM_UE                            26529 non-null object\n",
      "CD_CARGO                         26529 non-null int64\n",
      "DS_CARGO                         26529 non-null object\n",
      "SQ_CANDIDATO                     26529 non-null int64\n",
      "NR_CANDIDATO                     26529 non-null int64\n",
      "NM_CANDIDATO                     26529 non-null object\n",
      "NM_URNA_CANDIDATO                26529 non-null object\n",
      "NM_SOCIAL_CANDIDATO              26529 non-null object\n",
      "NR_CPF_CANDIDATO                 26529 non-null int64\n",
      "NM_EMAIL                         26529 non-null object\n",
      "CD_SITUACAO_CANDIDATURA          26529 non-null int64\n",
      "DS_SITUACAO_CANDIDATURA          26529 non-null object\n",
      "CD_DETALHE_SITUACAO_CAND         26529 non-null int64\n",
      "DS_DETALHE_SITUACAO_CAND         26529 non-null object\n",
      "TP_AGREMIACAO                    26529 non-null object\n",
      "NR_PARTIDO                       26529 non-null int64\n",
      "SG_PARTIDO                       26529 non-null object\n",
      "NM_PARTIDO                       26529 non-null object\n",
      "SQ_COLIGACAO                     26529 non-null int64\n",
      "NM_COLIGACAO                     26529 non-null object\n",
      "DS_COMPOSICAO_COLIGACAO          26529 non-null object\n",
      "CD_NACIONALIDADE                 26529 non-null int64\n",
      "DS_NACIONALIDADE                 26529 non-null object\n",
      "SG_UF_NASCIMENTO                 26529 non-null object\n",
      "CD_MUNICIPIO_NASCIMENTO          26529 non-null int64\n",
      "NM_MUNICIPIO_NASCIMENTO          26529 non-null object\n",
      "DT_NASCIMENTO                    26529 non-null object\n",
      "NR_IDADE_DATA_POSSE              26529 non-null int64\n",
      "NR_TITULO_ELEITORAL_CANDIDATO    26529 non-null int64\n",
      "CD_GENERO                        26529 non-null int64\n",
      "DS_GENERO                        26529 non-null object\n",
      "CD_GRAU_INSTRUCAO                26529 non-null int64\n",
      "DS_GRAU_INSTRUCAO                26529 non-null object\n",
      "CD_ESTADO_CIVIL                  26529 non-null int64\n",
      "DS_ESTADO_CIVIL                  26529 non-null object\n",
      "CD_COR_RACA                      26529 non-null int64\n",
      "DS_COR_RACA                      26529 non-null object\n",
      "CD_OCUPACAO                      26529 non-null int64\n",
      "DS_OCUPACAO                      26529 non-null object\n",
      "NR_DESPESA_MAX_CAMPANHA          26529 non-null int64\n",
      "CD_SIT_TOT_TURNO                 26529 non-null int64\n",
      "DS_SIT_TOT_TURNO                 26529 non-null object\n",
      "ST_REELEICAO                     26529 non-null object\n",
      "ST_DECLARAR_BENS                 26529 non-null object\n",
      "NR_PROTOCOLO_CANDIDATURA         26529 non-null int64\n",
      "NR_PROCESSO                      26529 non-null int64\n",
      "dtypes: int64(25), object(33)\n",
      "memory usage: 11.9+ MB\n"
     ]
    }
   ],
   "source": [
    "df_consulta.info()"
   ]
  },
  {
   "cell_type": "code",
   "execution_count": 7,
   "metadata": {},
   "outputs": [
    {
     "data": {
      "text/plain": [
       "array(['APTO', 'INAPTO'], dtype=object)"
      ]
     },
     "execution_count": 7,
     "metadata": {},
     "output_type": "execute_result"
    }
   ],
   "source": [
    "df_consulta['DS_SITUACAO_CANDIDATURA'].unique()"
   ]
  },
  {
   "cell_type": "code",
   "execution_count": 8,
   "metadata": {},
   "outputs": [],
   "source": [
    "df_consulta = df_consulta[df_consulta.DS_SITUACAO_CANDIDATURA.isin(['APTO'])]"
   ]
  },
  {
   "cell_type": "code",
   "execution_count": 9,
   "metadata": {},
   "outputs": [
    {
     "name": "stdout",
     "output_type": "stream",
     "text": [
      "<class 'pandas.core.frame.DataFrame'>\n",
      "Int64Index: 23831 entries, 0 to 29144\n",
      "Data columns (total 58 columns):\n",
      "DT_GERACAO                       23831 non-null object\n",
      "HH_GERACAO                       23831 non-null object\n",
      "ANO_ELEICAO                      23831 non-null int64\n",
      "CD_TIPO_ELEICAO                  23831 non-null int64\n",
      "NM_TIPO_ELEICAO                  23831 non-null object\n",
      "NR_TURNO                         23831 non-null int64\n",
      "CD_ELEICAO                       23831 non-null int64\n",
      "DS_ELEICAO                       23831 non-null object\n",
      "DT_ELEICAO                       23831 non-null object\n",
      "TP_ABRANGENCIA                   23831 non-null object\n",
      "SG_UF                            23831 non-null object\n",
      "SG_UE                            23831 non-null object\n",
      "NM_UE                            23831 non-null object\n",
      "CD_CARGO                         23831 non-null int64\n",
      "DS_CARGO                         23831 non-null object\n",
      "SQ_CANDIDATO                     23831 non-null int64\n",
      "NR_CANDIDATO                     23831 non-null int64\n",
      "NM_CANDIDATO                     23831 non-null object\n",
      "NM_URNA_CANDIDATO                23831 non-null object\n",
      "NM_SOCIAL_CANDIDATO              23831 non-null object\n",
      "NR_CPF_CANDIDATO                 23831 non-null int64\n",
      "NM_EMAIL                         23831 non-null object\n",
      "CD_SITUACAO_CANDIDATURA          23831 non-null int64\n",
      "DS_SITUACAO_CANDIDATURA          23831 non-null object\n",
      "CD_DETALHE_SITUACAO_CAND         23831 non-null int64\n",
      "DS_DETALHE_SITUACAO_CAND         23831 non-null object\n",
      "TP_AGREMIACAO                    23831 non-null object\n",
      "NR_PARTIDO                       23831 non-null int64\n",
      "SG_PARTIDO                       23831 non-null object\n",
      "NM_PARTIDO                       23831 non-null object\n",
      "SQ_COLIGACAO                     23831 non-null int64\n",
      "NM_COLIGACAO                     23831 non-null object\n",
      "DS_COMPOSICAO_COLIGACAO          23831 non-null object\n",
      "CD_NACIONALIDADE                 23831 non-null int64\n",
      "DS_NACIONALIDADE                 23831 non-null object\n",
      "SG_UF_NASCIMENTO                 23831 non-null object\n",
      "CD_MUNICIPIO_NASCIMENTO          23831 non-null int64\n",
      "NM_MUNICIPIO_NASCIMENTO          23831 non-null object\n",
      "DT_NASCIMENTO                    23831 non-null object\n",
      "NR_IDADE_DATA_POSSE              23831 non-null int64\n",
      "NR_TITULO_ELEITORAL_CANDIDATO    23831 non-null int64\n",
      "CD_GENERO                        23831 non-null int64\n",
      "DS_GENERO                        23831 non-null object\n",
      "CD_GRAU_INSTRUCAO                23831 non-null int64\n",
      "DS_GRAU_INSTRUCAO                23831 non-null object\n",
      "CD_ESTADO_CIVIL                  23831 non-null int64\n",
      "DS_ESTADO_CIVIL                  23831 non-null object\n",
      "CD_COR_RACA                      23831 non-null int64\n",
      "DS_COR_RACA                      23831 non-null object\n",
      "CD_OCUPACAO                      23831 non-null int64\n",
      "DS_OCUPACAO                      23831 non-null object\n",
      "NR_DESPESA_MAX_CAMPANHA          23831 non-null int64\n",
      "CD_SIT_TOT_TURNO                 23831 non-null int64\n",
      "DS_SIT_TOT_TURNO                 23831 non-null object\n",
      "ST_REELEICAO                     23831 non-null object\n",
      "ST_DECLARAR_BENS                 23831 non-null object\n",
      "NR_PROTOCOLO_CANDIDATURA         23831 non-null int64\n",
      "NR_PROCESSO                      23831 non-null int64\n",
      "dtypes: int64(25), object(33)\n",
      "memory usage: 10.7+ MB\n"
     ]
    }
   ],
   "source": [
    "df_consulta.info()"
   ]
  },
  {
   "cell_type": "code",
   "execution_count": 10,
   "metadata": {},
   "outputs": [
    {
     "data": {
      "text/plain": [
       "array([ 0, -1], dtype=int64)"
      ]
     },
     "execution_count": 10,
     "metadata": {},
     "output_type": "execute_result"
    }
   ],
   "source": [
    "df_consulta['NR_DESPESA_MAX_CAMPANHA'].unique()"
   ]
  },
  {
   "cell_type": "code",
   "execution_count": 11,
   "metadata": {},
   "outputs": [],
   "source": [
    "df_consulta = df_consulta[['SQ_CANDIDATO','NR_IDADE_DATA_POSSE','DS_GENERO',\n",
    "                           'DS_GRAU_INSTRUCAO','DS_ESTADO_CIVIL',\n",
    "                           'DS_COR_RACA','DS_SIT_TOT_TURNO']]"
   ]
  },
  {
   "cell_type": "code",
   "execution_count": 12,
   "metadata": {},
   "outputs": [
    {
     "name": "stdout",
     "output_type": "stream",
     "text": [
      "<class 'pandas.core.frame.DataFrame'>\n",
      "Int64Index: 23831 entries, 0 to 29144\n",
      "Data columns (total 7 columns):\n",
      "SQ_CANDIDATO           23831 non-null int64\n",
      "NR_IDADE_DATA_POSSE    23831 non-null int64\n",
      "DS_GENERO              23831 non-null object\n",
      "DS_GRAU_INSTRUCAO      23831 non-null object\n",
      "DS_ESTADO_CIVIL        23831 non-null object\n",
      "DS_COR_RACA            23831 non-null object\n",
      "DS_SIT_TOT_TURNO       23831 non-null object\n",
      "dtypes: int64(2), object(5)\n",
      "memory usage: 1.5+ MB\n"
     ]
    }
   ],
   "source": [
    "df_consulta.info()"
   ]
  },
  {
   "cell_type": "code",
   "execution_count": 13,
   "metadata": {},
   "outputs": [
    {
     "data": {
      "text/plain": [
       "SQ_CANDIDATO           0\n",
       "NR_IDADE_DATA_POSSE    0\n",
       "DS_GENERO              0\n",
       "DS_GRAU_INSTRUCAO      0\n",
       "DS_ESTADO_CIVIL        0\n",
       "DS_COR_RACA            0\n",
       "DS_SIT_TOT_TURNO       0\n",
       "dtype: int64"
      ]
     },
     "execution_count": 13,
     "metadata": {},
     "output_type": "execute_result"
    }
   ],
   "source": [
    "df_consulta.isnull().sum()"
   ]
  },
  {
   "cell_type": "code",
   "execution_count": 14,
   "metadata": {},
   "outputs": [],
   "source": [
    "df_bem = pd.read_csv(\"bem_candidato_2018_BRASIL.csv\", encoding = \"Latin 1\", sep = \";\", decimal = ',')"
   ]
  },
  {
   "cell_type": "code",
   "execution_count": 15,
   "metadata": {},
   "outputs": [
    {
     "name": "stdout",
     "output_type": "stream",
     "text": [
      "<class 'pandas.core.frame.DataFrame'>\n",
      "RangeIndex: 93271 entries, 0 to 93270\n",
      "Data columns (total 19 columns):\n",
      "DT_GERACAO               93271 non-null object\n",
      "HH_GERACAO               93271 non-null object\n",
      "ANO_ELEICAO              93271 non-null int64\n",
      "CD_TIPO_ELEICAO          93271 non-null int64\n",
      "NM_TIPO_ELEICAO          93271 non-null object\n",
      "CD_ELEICAO               93271 non-null int64\n",
      "DS_ELEICAO               93271 non-null object\n",
      "DT_ELEICAO               93271 non-null object\n",
      "SG_UF                    93271 non-null object\n",
      "SG_UE                    93271 non-null object\n",
      "NM_UE                    93271 non-null object\n",
      "SQ_CANDIDATO             93271 non-null int64\n",
      "NR_ORDEM_CANDIDATO       93271 non-null int64\n",
      "CD_TIPO_BEM_CANDIDATO    93271 non-null int64\n",
      "DS_TIPO_BEM_CANDIDATO    93271 non-null object\n",
      "DS_BEM_CANDIDATO         93271 non-null object\n",
      "VR_BEM_CANDIDATO         93271 non-null float64\n",
      "DT_ULTIMA_ATUALIZACAO    93271 non-null object\n",
      "HH_ULTIMA_ATUALIZACAO    93271 non-null object\n",
      "dtypes: float64(1), int64(6), object(12)\n",
      "memory usage: 13.5+ MB\n"
     ]
    }
   ],
   "source": [
    "df_bem.info()"
   ]
  },
  {
   "cell_type": "code",
   "execution_count": 16,
   "metadata": {},
   "outputs": [],
   "source": [
    "df_bem = df_bem[['SQ_CANDIDATO','DS_TIPO_BEM_CANDIDATO','DS_BEM_CANDIDATO','VR_BEM_CANDIDATO']]"
   ]
  },
  {
   "cell_type": "code",
   "execution_count": 17,
   "metadata": {},
   "outputs": [
    {
     "name": "stdout",
     "output_type": "stream",
     "text": [
      "<class 'pandas.core.frame.DataFrame'>\n",
      "RangeIndex: 93271 entries, 0 to 93270\n",
      "Data columns (total 4 columns):\n",
      "SQ_CANDIDATO             93271 non-null int64\n",
      "DS_TIPO_BEM_CANDIDATO    93271 non-null object\n",
      "DS_BEM_CANDIDATO         93271 non-null object\n",
      "VR_BEM_CANDIDATO         93271 non-null float64\n",
      "dtypes: float64(1), int64(1), object(2)\n",
      "memory usage: 2.8+ MB\n"
     ]
    }
   ],
   "source": [
    "df_bem.info()"
   ]
  },
  {
   "cell_type": "code",
   "execution_count": 18,
   "metadata": {},
   "outputs": [
    {
     "data": {
      "text/plain": [
       "SQ_CANDIDATO             0\n",
       "DS_TIPO_BEM_CANDIDATO    0\n",
       "DS_BEM_CANDIDATO         0\n",
       "VR_BEM_CANDIDATO         0\n",
       "dtype: int64"
      ]
     },
     "execution_count": 18,
     "metadata": {},
     "output_type": "execute_result"
    }
   ],
   "source": [
    "df_bem.isnull().sum()"
   ]
  },
  {
   "cell_type": "code",
   "execution_count": 19,
   "metadata": {},
   "outputs": [],
   "source": [
    "df_despesas_contratadas = pd.read_csv(\"despesas_contratadas_candidatos_2018_BRASIL.csv\", \n",
    "                                      encoding = \"Latin 1\", sep = \";\", decimal = ',')"
   ]
  },
  {
   "cell_type": "code",
   "execution_count": 20,
   "metadata": {},
   "outputs": [
    {
     "name": "stdout",
     "output_type": "stream",
     "text": [
      "<class 'pandas.core.frame.DataFrame'>\n",
      "RangeIndex: 1711062 entries, 0 to 1711061\n",
      "Data columns (total 53 columns):\n",
      "DT_GERACAO                   object\n",
      "HH_GERACAO                   object\n",
      "ANO_ELEICAO                  int64\n",
      "CD_TIPO_ELEICAO              int64\n",
      "NM_TIPO_ELEICAO              object\n",
      "CD_ELEICAO                   int64\n",
      "DS_ELEICAO                   object\n",
      "DT_ELEICAO                   object\n",
      "ST_TURNO                     int64\n",
      "TP_PRESTACAO_CONTAS          object\n",
      "DT_PRESTACAO_CONTAS          object\n",
      "SQ_PRESTADOR_CONTAS          int64\n",
      "SG_UF                        object\n",
      "SG_UE                        object\n",
      "NM_UE                        object\n",
      "NR_CNPJ_PRESTADOR_CONTA      int64\n",
      "CD_CARGO                     int64\n",
      "DS_CARGO                     object\n",
      "SQ_CANDIDATO                 int64\n",
      "NR_CANDIDATO                 int64\n",
      "NM_CANDIDATO                 object\n",
      "NR_CPF_CANDIDATO             int64\n",
      "NR_CPF_VICE_CANDIDATO        int64\n",
      "NR_PARTIDO                   int64\n",
      "SG_PARTIDO                   object\n",
      "NM_PARTIDO                   object\n",
      "CD_TIPO_FORNECEDOR           int64\n",
      "DS_TIPO_FORNECEDOR           object\n",
      "CD_CNAE_FORNECEDOR           int64\n",
      "DS_CNAE_FORNECEDOR           object\n",
      "NR_CPF_CNPJ_FORNECEDOR       int64\n",
      "NM_FORNECEDOR                object\n",
      "NM_FORNECEDOR_RFB            object\n",
      "CD_ESFERA_PART_FORNECEDOR    int64\n",
      "DS_ESFERA_PART_FORNECEDOR    object\n",
      "SG_UF_FORNECEDOR             object\n",
      "CD_MUNICIPIO_FORNECEDOR      int64\n",
      "NM_MUNICIPIO_FORNECEDOR      object\n",
      "SQ_CANDIDATO_FORNECEDOR      int64\n",
      "NR_CANDIDATO_FORNECEDOR      int64\n",
      "CD_CARGO_FORNECEDOR          int64\n",
      "DS_CARGO_FORNECEDOR          object\n",
      "NR_PARTIDO_FORNECEDOR        int64\n",
      "SG_PARTIDO_FORNECEDOR        object\n",
      "NM_PARTIDO_FORNECEDOR        object\n",
      "DS_TIPO_DOCUMENTO            object\n",
      "NR_DOCUMENTO                 object\n",
      "CD_ORIGEM_DESPESA            int64\n",
      "DS_ORIGEM_DESPESA            object\n",
      "SQ_DESPESA                   int64\n",
      "DT_DESPESA                   object\n",
      "DS_DESPESA                   object\n",
      "VR_DESPESA_CONTRATADA        float64\n",
      "dtypes: float64(1), int64(23), object(29)\n",
      "memory usage: 691.9+ MB\n"
     ]
    }
   ],
   "source": [
    "df_despesas_contratadas.info()"
   ]
  },
  {
   "cell_type": "code",
   "execution_count": 21,
   "metadata": {},
   "outputs": [],
   "source": [
    "df_despesas_contratadas = df_despesas_contratadas[['SQ_DESPESA','SQ_CANDIDATO', 'DS_DESPESA', \n",
    "                                                   'VR_DESPESA_CONTRATADA']]"
   ]
  },
  {
   "cell_type": "code",
   "execution_count": 22,
   "metadata": {},
   "outputs": [
    {
     "name": "stdout",
     "output_type": "stream",
     "text": [
      "<class 'pandas.core.frame.DataFrame'>\n",
      "RangeIndex: 1711062 entries, 0 to 1711061\n",
      "Data columns (total 4 columns):\n",
      "SQ_DESPESA               int64\n",
      "SQ_CANDIDATO             int64\n",
      "DS_DESPESA               object\n",
      "VR_DESPESA_CONTRATADA    float64\n",
      "dtypes: float64(1), int64(2), object(1)\n",
      "memory usage: 52.2+ MB\n"
     ]
    }
   ],
   "source": [
    "df_despesas_contratadas.info()"
   ]
  },
  {
   "cell_type": "code",
   "execution_count": 23,
   "metadata": {},
   "outputs": [
    {
     "data": {
      "text/plain": [
       "SQ_DESPESA               0\n",
       "SQ_CANDIDATO             0\n",
       "DS_DESPESA               0\n",
       "VR_DESPESA_CONTRATADA    0\n",
       "dtype: int64"
      ]
     },
     "execution_count": 23,
     "metadata": {},
     "output_type": "execute_result"
    }
   ],
   "source": [
    "df_despesas_contratadas.isnull().sum()"
   ]
  },
  {
   "cell_type": "code",
   "execution_count": 24,
   "metadata": {},
   "outputs": [],
   "source": [
    "df_despesas_pagas = pd.read_csv(\"despesas_pagas_candidatos_2018_BRASIL.csv\", \n",
    "                                encoding = \"Latin 1\", sep = \";\", decimal = ',')"
   ]
  },
  {
   "cell_type": "code",
   "execution_count": 25,
   "metadata": {},
   "outputs": [
    {
     "name": "stdout",
     "output_type": "stream",
     "text": [
      "<class 'pandas.core.frame.DataFrame'>\n",
      "RangeIndex: 1647553 entries, 0 to 1647552\n",
      "Data columns (total 28 columns):\n",
      "DT_GERACAO                 1647553 non-null object\n",
      "HH_GERACAO                 1647553 non-null object\n",
      "ANO_ELEICAO                1647553 non-null int64\n",
      "CD_TIPO_ELEICAO            1647553 non-null int64\n",
      "NM_TIPO_ELEICAO            1647553 non-null object\n",
      "CD_ELEICAO                 1647553 non-null int64\n",
      "DS_ELEICAO                 1647553 non-null object\n",
      "DT_ELEICAO                 1647553 non-null object\n",
      "ST_TURNO                   1647553 non-null int64\n",
      "TP_PRESTACAO_CONTAS        1647553 non-null object\n",
      "DT_PRESTACAO_CONTAS        1647553 non-null object\n",
      "SQ_PRESTADOR_CONTAS        1647553 non-null int64\n",
      "SG_UF                      1647553 non-null object\n",
      "DS_TIPO_DOCUMENTO          1647553 non-null object\n",
      "NR_DOCUMENTO               1647553 non-null object\n",
      "CD_FONTE_DESPESA           1647553 non-null int64\n",
      "DS_FONTE_DESPESA           1647553 non-null object\n",
      "CD_ORIGEM_DESPESA          1647553 non-null int64\n",
      "DS_ORIGEM_DESPESA          1647553 non-null object\n",
      "CD_NATUREZA_DESPESA        1647553 non-null int64\n",
      "DS_NATUREZA_DESPESA        1647553 non-null object\n",
      "CD_ESPECIE_RECURSO         1647553 non-null int64\n",
      "DS_ESPECIE_RECURSO         1647553 non-null object\n",
      "SQ_DESPESA                 1647553 non-null int64\n",
      "SQ_PARCELAMENTO_DESPESA    1647553 non-null int64\n",
      "DT_PAGTO_DESPESA           1647553 non-null object\n",
      "DS_DESPESA                 1647553 non-null object\n",
      "VR_PAGTO_DESPESA           1647553 non-null float64\n",
      "dtypes: float64(1), int64(11), object(16)\n",
      "memory usage: 352.0+ MB\n"
     ]
    }
   ],
   "source": [
    "df_despesas_pagas.info()"
   ]
  },
  {
   "cell_type": "code",
   "execution_count": 26,
   "metadata": {},
   "outputs": [],
   "source": [
    "df_despesas_pagas = df_despesas_pagas[['SQ_DESPESA','VR_PAGTO_DESPESA']]"
   ]
  },
  {
   "cell_type": "code",
   "execution_count": 27,
   "metadata": {},
   "outputs": [
    {
     "name": "stdout",
     "output_type": "stream",
     "text": [
      "<class 'pandas.core.frame.DataFrame'>\n",
      "RangeIndex: 1647553 entries, 0 to 1647552\n",
      "Data columns (total 2 columns):\n",
      "SQ_DESPESA          1647553 non-null int64\n",
      "VR_PAGTO_DESPESA    1647553 non-null float64\n",
      "dtypes: float64(1), int64(1)\n",
      "memory usage: 25.1 MB\n"
     ]
    }
   ],
   "source": [
    "df_despesas_pagas.info()"
   ]
  },
  {
   "cell_type": "code",
   "execution_count": 28,
   "metadata": {},
   "outputs": [
    {
     "data": {
      "text/plain": [
       "SQ_DESPESA          0\n",
       "VR_PAGTO_DESPESA    0\n",
       "dtype: int64"
      ]
     },
     "execution_count": 28,
     "metadata": {},
     "output_type": "execute_result"
    }
   ],
   "source": [
    "df_despesas_pagas.isnull().sum()"
   ]
  },
  {
   "cell_type": "code",
   "execution_count": 29,
   "metadata": {},
   "outputs": [],
   "source": [
    "from collections import Counter\n",
    "import matplotlib.pyplot as plt"
   ]
  },
  {
   "cell_type": "code",
   "execution_count": 30,
   "metadata": {},
   "outputs": [
    {
     "data": {
      "text/plain": [
       "array(['SUPLENTE', 'NÃO ELEITO', 'ELEITO POR MÉDIA', 'ELEITO POR QP'],\n",
       "      dtype=object)"
      ]
     },
     "execution_count": 30,
     "metadata": {},
     "output_type": "execute_result"
    }
   ],
   "source": [
    "df_consulta['DS_SIT_TOT_TURNO'].unique()"
   ]
  },
  {
   "cell_type": "code",
   "execution_count": 31,
   "metadata": {},
   "outputs": [],
   "source": [
    "df_consulta_eleitos = df_consulta[df_consulta.DS_SIT_TOT_TURNO.isin(['ELEITO POR MÉDIA',\n",
    "                                                     'ELEITO POR QP'])]"
   ]
  },
  {
   "cell_type": "code",
   "execution_count": 32,
   "metadata": {},
   "outputs": [
    {
     "name": "stdout",
     "output_type": "stream",
     "text": [
      "<class 'pandas.core.frame.DataFrame'>\n",
      "Int64Index: 1548 entries, 64 to 29139\n",
      "Data columns (total 7 columns):\n",
      "SQ_CANDIDATO           1548 non-null int64\n",
      "NR_IDADE_DATA_POSSE    1548 non-null int64\n",
      "DS_GENERO              1548 non-null object\n",
      "DS_GRAU_INSTRUCAO      1548 non-null object\n",
      "DS_ESTADO_CIVIL        1548 non-null object\n",
      "DS_COR_RACA            1548 non-null object\n",
      "DS_SIT_TOT_TURNO       1548 non-null object\n",
      "dtypes: int64(2), object(5)\n",
      "memory usage: 96.8+ KB\n"
     ]
    }
   ],
   "source": [
    "df_consulta_eleitos.info()"
   ]
  },
  {
   "cell_type": "code",
   "execution_count": 33,
   "metadata": {},
   "outputs": [
    {
     "data": {
      "text/plain": [
       "Counter({'MASCULINO': 16378, 'FEMININO': 7453})"
      ]
     },
     "execution_count": 33,
     "metadata": {},
     "output_type": "execute_result"
    }
   ],
   "source": [
    "genero_candidatos = Counter(df_consulta['DS_GENERO'])\n",
    "genero_candidatos"
   ]
  },
  {
   "cell_type": "code",
   "execution_count": 34,
   "metadata": {},
   "outputs": [
    {
     "data": {
      "image/png": "[encoded data removed]",
      "text/plain": [
       "<Figure size 432x288 with 1 Axes>"
      ]
     },
     "metadata": {},
     "output_type": "display_data"
    }
   ],
   "source": [
    "plt.style.use('seaborn-pastel')\n",
    "plt.pie(genero_candidatos.values(), labels = genero_candidatos.keys(), \n",
    "        autopct = '%1.1f%%', textprops={'fontsize': 16})\n",
    "plt.axis(\"image\")\n",
    "plt.title(\"Gênero dos candidatos\", fontsize=18)\n",
    "plt.show()"
   ]
  },
  {
   "cell_type": "code",
   "execution_count": 35,
   "metadata": {},
   "outputs": [
    {
     "data": {
      "text/plain": [
       "Counter({'MASCULINO': 1311, 'FEMININO': 237})"
      ]
     },
     "execution_count": 35,
     "metadata": {},
     "output_type": "execute_result"
    }
   ],
   "source": [
    "genero_candidatos_eleitos = Counter(df_consulta_eleitos['DS_GENERO'])\n",
    "genero_candidatos_eleitos"
   ]
  },
  {
   "cell_type": "code",
   "execution_count": 36,
   "metadata": {},
   "outputs": [
    {
     "data": {
      "image/png": "[encoded data removed]",
      "text/plain": [
       "<Figure size 432x288 with 1 Axes>"
      ]
     },
     "metadata": {},
     "output_type": "display_data"
    }
   ],
   "source": [
    "plt.style.use('ggplot')\n",
    "plt.pie(genero_candidatos_eleitos.values(), labels = genero_candidatos_eleitos.keys(), \n",
    "        autopct = '%1.1f%%', textprops={'fontsize': 16})\n",
    "plt.title(\"Gênero dos candidatos eleitos\", fontsize=18)\n",
    "plt.axis(\"image\")\n",
    "plt.show()"
   ]
  },
  {
   "cell_type": "code",
   "execution_count": 37,
   "metadata": {},
   "outputs": [
    {
     "data": {
      "text/plain": [
       "count    23831.000000\n",
       "mean        47.460409\n",
       "std         11.336135\n",
       "min         20.000000\n",
       "25%         39.000000\n",
       "50%         47.000000\n",
       "75%         55.000000\n",
       "max         94.000000\n",
       "Name: NR_IDADE_DATA_POSSE, dtype: float64"
      ]
     },
     "execution_count": 37,
     "metadata": {},
     "output_type": "execute_result"
    }
   ],
   "source": [
    "df_consulta['NR_IDADE_DATA_POSSE'].describe()"
   ]
  },
  {
   "cell_type": "code",
   "execution_count": 38,
   "metadata": {},
   "outputs": [
    {
     "data": {
      "text/plain": [
       "count    1548.000000\n",
       "mean       48.446382\n",
       "std        12.000984\n",
       "min        21.000000\n",
       "25%        39.000000\n",
       "50%        48.000000\n",
       "75%        57.000000\n",
       "max        84.000000\n",
       "Name: NR_IDADE_DATA_POSSE, dtype: float64"
      ]
     },
     "execution_count": 38,
     "metadata": {},
     "output_type": "execute_result"
    }
   ],
   "source": [
    "df_consulta_eleitos['NR_IDADE_DATA_POSSE'].describe()"
   ]
  },
  {
   "cell_type": "code",
   "execution_count": 39,
   "metadata": {},
   "outputs": [
    {
     "data": {
      "image/png": "[encoded data removed]",
      "text/plain": [
       "<Figure size 432x288 with 1 Axes>"
      ]
     },
     "metadata": {},
     "output_type": "display_data"
    }
   ],
   "source": [
    "df_consulta.NR_IDADE_DATA_POSSE.hist(bins=20)\n",
    "plt.style.use('seaborn-pastel')\n",
    "plt.xlabel(\"Idade\")\n",
    "plt.ylabel(\"Número de candidatos\")\n",
    "plt.title(\"Idade na posse\")\n",
    "plt.show()"
   ]
  },
  {
   "cell_type": "code",
   "execution_count": 40,
   "metadata": {},
   "outputs": [
    {
     "data": {
      "image/png": "[encoded data removed]",
      "text/plain": [
       "<Figure size 432x288 with 1 Axes>"
      ]
     },
     "metadata": {},
     "output_type": "display_data"
    }
   ],
   "source": [
    "df_consulta_eleitos.NR_IDADE_DATA_POSSE.hist(bins=20)\n",
    "plt.style.use('ggplot')\n",
    "plt.xlabel(\"Idade\")\n",
    "plt.ylabel(\"Número de candidatos eleitos\")\n",
    "plt.title(\"Idade na posse - Eleitos\")\n",
    "plt.show()"
   ]
  },
  {
   "cell_type": "code",
   "execution_count": 41,
   "metadata": {},
   "outputs": [
    {
     "data": {
      "text/plain": [
       "Counter({'ENSINO MÉDIO COMPLETO': 7087,\n",
       "         'SUPERIOR COMPLETO': 11497,\n",
       "         'SUPERIOR INCOMPLETO': 2177,\n",
       "         'ENSINO FUNDAMENTAL COMPLETO': 1386,\n",
       "         'ENSINO FUNDAMENTAL INCOMPLETO': 764,\n",
       "         'ENSINO MÉDIO INCOMPLETO': 697,\n",
       "         'LÊ E ESCREVE': 223})"
      ]
     },
     "execution_count": 41,
     "metadata": {},
     "output_type": "execute_result"
    }
   ],
   "source": [
    "escolaridade_candidatos = Counter(df_consulta['DS_GRAU_INSTRUCAO'])\n",
    "escolaridade_candidatos"
   ]
  },
  {
   "cell_type": "code",
   "execution_count": 42,
   "metadata": {},
   "outputs": [
    {
     "name": "stdout",
     "output_type": "stream",
     "text": [
      "ENSINO MÉDIO COMPLETO: \n",
      "29.74%\n",
      "\n",
      "SUPERIOR COMPLETO: \n",
      "48.24%\n",
      "\n",
      "SUPERIOR INCOMPLETO: \n",
      "9.14%\n",
      "\n",
      "ENSINO FUNDAMENTAL COMPLETO: \n",
      "5.82%\n",
      "\n",
      "ENSINO FUNDAMENTAL INCOMPLETO: \n",
      "3.21%\n",
      "\n",
      "ENSINO MÉDIO INCOMPLETO: \n",
      "2.92%\n",
      "\n",
      "LÊ E ESCREVE: \n",
      "0.94%\n",
      "\n"
     ]
    }
   ],
   "source": [
    "n_candidatos=sum(escolaridade_candidatos.values())\n",
    "for x, y in escolaridade_candidatos.items():\n",
    "    a = y/n_candidatos*100\n",
    "    print(str(x) + ': ' +'\\n'+ str(round(a,2)) + '%'+'\\n')"
   ]
  },
  {
   "cell_type": "code",
   "execution_count": 43,
   "metadata": {},
   "outputs": [],
   "source": [
    "lista_escolaridade_candidatos_labels = []\n",
    "lista_escolaridade_candidatos_valores = []\n",
    "for x, y in escolaridade_candidatos.items():\n",
    "    lista_escolaridade_candidatos_labels.append(x)\n",
    "    lista_escolaridade_candidatos_valores.append(y)"
   ]
  },
  {
   "cell_type": "code",
   "execution_count": 44,
   "metadata": {},
   "outputs": [
    {
     "data": {
      "text/plain": [
       "['ENSINO MÉDIO COMPLETO',\n",
       " 'SUPERIOR COMPLETO',\n",
       " 'SUPERIOR INCOMPLETO',\n",
       " 'ENSINO FUNDAMENTAL COMPLETO',\n",
       " 'ENSINO FUNDAMENTAL INCOMPLETO',\n",
       " 'ENSINO MÉDIO INCOMPLETO',\n",
       " 'LÊ E ESCREVE']"
      ]
     },
     "execution_count": 44,
     "metadata": {},
     "output_type": "execute_result"
    }
   ],
   "source": [
    "lista_escolaridade_candidatos_labels"
   ]
  },
  {
   "cell_type": "code",
   "execution_count": 45,
   "metadata": {},
   "outputs": [
    {
     "data": {
      "text/plain": [
       "[7087, 11497, 2177, 1386, 764, 697, 223]"
      ]
     },
     "execution_count": 45,
     "metadata": {},
     "output_type": "execute_result"
    }
   ],
   "source": [
    "lista_escolaridade_candidatos_valores"
   ]
  },
  {
   "cell_type": "code",
   "execution_count": 46,
   "metadata": {},
   "outputs": [
    {
     "data": {
      "image/png": "[encoded data removed]",
      "text/plain": [
       "<Figure size 432x288 with 1 Axes>"
      ]
     },
     "metadata": {},
     "output_type": "display_data"
    }
   ],
   "source": [
    "plt.style.use('seaborn-pastel')\n",
    "plt.barh(lista_escolaridade_candidatos_labels, lista_escolaridade_candidatos_valores)\n",
    "plt.ylabel('escolaridade')\n",
    "plt.xlabel('número de candidatos')\n",
    "plt.title('Candidatos por escolaridade')\n",
    "plt.show()"
   ]
  },
  {
   "cell_type": "code",
   "execution_count": 47,
   "metadata": {},
   "outputs": [
    {
     "data": {
      "text/plain": [
       "Counter({'SUPERIOR COMPLETO': 1153,\n",
       "         'ENSINO FUNDAMENTAL COMPLETO': 29,\n",
       "         'ENSINO MÉDIO INCOMPLETO': 8,\n",
       "         'ENSINO MÉDIO COMPLETO': 207,\n",
       "         'SUPERIOR INCOMPLETO': 141,\n",
       "         'ENSINO FUNDAMENTAL INCOMPLETO': 9,\n",
       "         'LÊ E ESCREVE': 1})"
      ]
     },
     "execution_count": 47,
     "metadata": {},
     "output_type": "execute_result"
    }
   ],
   "source": [
    "escolaridade_candidatos_eleitos = Counter(df_consulta_eleitos['DS_GRAU_INSTRUCAO'])\n",
    "escolaridade_candidatos_eleitos"
   ]
  },
  {
   "cell_type": "code",
   "execution_count": 48,
   "metadata": {},
   "outputs": [
    {
     "name": "stdout",
     "output_type": "stream",
     "text": [
      "SUPERIOR COMPLETO: \n",
      "74.48%\n",
      "\n",
      "ENSINO FUNDAMENTAL COMPLETO: \n",
      "1.87%\n",
      "\n",
      "ENSINO MÉDIO INCOMPLETO: \n",
      "0.52%\n",
      "\n",
      "ENSINO MÉDIO COMPLETO: \n",
      "13.37%\n",
      "\n",
      "SUPERIOR INCOMPLETO: \n",
      "9.11%\n",
      "\n",
      "ENSINO FUNDAMENTAL INCOMPLETO: \n",
      "0.58%\n",
      "\n",
      "LÊ E ESCREVE: \n",
      "0.06%\n",
      "\n"
     ]
    }
   ],
   "source": [
    "n_eleitos=sum(escolaridade_candidatos_eleitos.values())\n",
    "for x, y in escolaridade_candidatos_eleitos.items():\n",
    "    a = y/n_eleitos*100\n",
    "    print(str(x) + ': ' +'\\n'+ str(round(a,2)) + '%'+'\\n')"
   ]
  },
  {
   "cell_type": "code",
   "execution_count": 49,
   "metadata": {},
   "outputs": [],
   "source": [
    "lista_escolaridade_candidatos_eleitos_labels = []\n",
    "lista_escolaridade_candidatos_eleitos_valores = []\n",
    "for x, y in escolaridade_candidatos_eleitos.items():\n",
    "    lista_escolaridade_candidatos_eleitos_labels.append(x)\n",
    "    lista_escolaridade_candidatos_eleitos_valores.append(y)"
   ]
  },
  {
   "cell_type": "code",
   "execution_count": 50,
   "metadata": {},
   "outputs": [
    {
     "data": {
      "text/plain": [
       "['SUPERIOR COMPLETO',\n",
       " 'ENSINO FUNDAMENTAL COMPLETO',\n",
       " 'ENSINO MÉDIO INCOMPLETO',\n",
       " 'ENSINO MÉDIO COMPLETO',\n",
       " 'SUPERIOR INCOMPLETO',\n",
       " 'ENSINO FUNDAMENTAL INCOMPLETO',\n",
       " 'LÊ E ESCREVE']"
      ]
     },
     "execution_count": 50,
     "metadata": {},
     "output_type": "execute_result"
    }
   ],
   "source": [
    "lista_escolaridade_candidatos_eleitos_labels"
   ]
  },
  {
   "cell_type": "code",
   "execution_count": 51,
   "metadata": {},
   "outputs": [
    {
     "data": {
      "text/plain": [
       "[1153, 29, 8, 207, 141, 9, 1]"
      ]
     },
     "execution_count": 51,
     "metadata": {},
     "output_type": "execute_result"
    }
   ],
   "source": [
    "lista_escolaridade_candidatos_eleitos_valores"
   ]
  },
  {
   "cell_type": "code",
   "execution_count": 52,
   "metadata": {},
   "outputs": [
    {
     "data": {
      "image/png": "[encoded data removed]",
      "text/plain": [
       "<Figure size 432x288 with 1 Axes>"
      ]
     },
     "metadata": {},
     "output_type": "display_data"
    }
   ],
   "source": [
    "plt.style.use('ggplot')\n",
    "plt.barh(lista_escolaridade_candidatos_eleitos_labels, \n",
    "         lista_escolaridade_candidatos_eleitos_valores)\n",
    "plt.ylabel('escolaridade')\n",
    "plt.xlabel('número de candidatos')\n",
    "plt.title('Candidatos eleitos por escolaridade')\n",
    "plt.show()"
   ]
  },
  {
   "cell_type": "code",
   "execution_count": 53,
   "metadata": {},
   "outputs": [
    {
     "data": {
      "text/plain": [
       "Counter({'BRANCA': 12585,\n",
       "         'PRETA': 2580,\n",
       "         'PARDA': 8420,\n",
       "         'AMARELA': 139,\n",
       "         'INDÍGENA': 107})"
      ]
     },
     "execution_count": 53,
     "metadata": {},
     "output_type": "execute_result"
    }
   ],
   "source": [
    "raca_candidatos = Counter(df_consulta['DS_COR_RACA'])\n",
    "raca_candidatos"
   ]
  },
  {
   "cell_type": "code",
   "execution_count": 54,
   "metadata": {},
   "outputs": [
    {
     "name": "stdout",
     "output_type": "stream",
     "text": [
      "BRANCA: \n",
      "52.81%\n",
      "\n",
      "PRETA: \n",
      "10.83%\n",
      "\n",
      "PARDA: \n",
      "35.33%\n",
      "\n",
      "AMARELA: \n",
      "0.58%\n",
      "\n",
      "INDÍGENA: \n",
      "0.45%\n",
      "\n"
     ]
    }
   ],
   "source": [
    "n_raca=sum(raca_candidatos.values())\n",
    "for x, y in raca_candidatos.items():\n",
    "    a = y/n_raca*100\n",
    "    print(str(x) + ': ' +'\\n'+ str(round(a,2)) + '%'+'\\n')"
   ]
  },
  {
   "cell_type": "code",
   "execution_count": 55,
   "metadata": {},
   "outputs": [
    {
     "data": {
      "image/png": "[encoded data removed]",
      "text/plain": [
       "<Figure size 432x288 with 1 Axes>"
      ]
     },
     "metadata": {},
     "output_type": "display_data"
    }
   ],
   "source": [
    "plt.style.use('seaborn-pastel')\n",
    "plt.bar(raca_candidatos.keys(), raca_candidatos.values())\n",
    "plt.ylabel('Número de candidatos')\n",
    "plt.xlabel('Raça')\n",
    "plt.title('Candidatos por raça')\n",
    "plt.show()"
   ]
  },
  {
   "cell_type": "code",
   "execution_count": 56,
   "metadata": {},
   "outputs": [
    {
     "data": {
      "text/plain": [
       "Counter({'BRANCA': 1124,\n",
       "         'PARDA': 361,\n",
       "         'PRETA': 59,\n",
       "         'INDÍGENA': 1,\n",
       "         'AMARELA': 3})"
      ]
     },
     "execution_count": 56,
     "metadata": {},
     "output_type": "execute_result"
    }
   ],
   "source": [
    "raca_candidatos_eleitos = Counter(df_consulta_eleitos['DS_COR_RACA'])\n",
    "raca_candidatos_eleitos"
   ]
  },
  {
   "cell_type": "code",
   "execution_count": 57,
   "metadata": {},
   "outputs": [
    {
     "name": "stdout",
     "output_type": "stream",
     "text": [
      "BRANCA: \n",
      "72.61%\n",
      "\n",
      "PARDA: \n",
      "23.32%\n",
      "\n",
      "PRETA: \n",
      "3.81%\n",
      "\n",
      "INDÍGENA: \n",
      "0.06%\n",
      "\n",
      "AMARELA: \n",
      "0.19%\n",
      "\n"
     ]
    }
   ],
   "source": [
    "n_raca_eleitos=sum(raca_candidatos_eleitos.values())\n",
    "for x, y in raca_candidatos_eleitos.items():\n",
    "    a = y/n_raca_eleitos*100\n",
    "    print(str(x) + ': ' +'\\n'+ str(round(a,2)) + '%'+'\\n')"
   ]
  },
  {
   "cell_type": "code",
   "execution_count": 58,
   "metadata": {},
   "outputs": [
    {
     "data": {
      "image/png": "[encoded data removed]",
      "text/plain": [
       "<Figure size 432x288 with 1 Axes>"
      ]
     },
     "metadata": {},
     "output_type": "display_data"
    }
   ],
   "source": [
    "plt.style.use('ggplot')\n",
    "plt.bar(raca_candidatos_eleitos.keys(), raca_candidatos_eleitos.values())\n",
    "plt.ylabel('Número de candidatos eleitos')\n",
    "plt.xlabel('Raça')\n",
    "plt.title('Candidatos eleitos por raça')\n",
    "plt.show()"
   ]
  },
  {
   "cell_type": "code",
   "execution_count": 59,
   "metadata": {},
   "outputs": [
    {
     "data": {
      "text/plain": [
       "Counter({'CASADO(A)': 12995,\n",
       "         'SOLTEIRO(A)': 7543,\n",
       "         'SEPARADO(A) JUDICIALMENTE': 261,\n",
       "         'DIVORCIADO(A)': 2654,\n",
       "         'VIÚVO(A)': 378})"
      ]
     },
     "execution_count": 59,
     "metadata": {},
     "output_type": "execute_result"
    }
   ],
   "source": [
    "estado_civil_candidatos = Counter(df_consulta['DS_ESTADO_CIVIL'])\n",
    "estado_civil_candidatos"
   ]
  },
  {
   "cell_type": "code",
   "execution_count": 60,
   "metadata": {},
   "outputs": [
    {
     "name": "stdout",
     "output_type": "stream",
     "text": [
      "CASADO(A): \n",
      "54.53%\n",
      "\n",
      "SOLTEIRO(A): \n",
      "31.65%\n",
      "\n",
      "SEPARADO(A) JUDICIALMENTE: \n",
      "1.1%\n",
      "\n",
      "DIVORCIADO(A): \n",
      "11.14%\n",
      "\n",
      "VIÚVO(A): \n",
      "1.59%\n",
      "\n"
     ]
    }
   ],
   "source": [
    "n_estado_civil=sum(estado_civil_candidatos.values())\n",
    "for x, y in estado_civil_candidatos.items():\n",
    "    a = y/n_estado_civil*100\n",
    "    print(str(x) + ': ' +'\\n'+ str(round(a,2)) + '%'+'\\n')"
   ]
  },
  {
   "cell_type": "code",
   "execution_count": 61,
   "metadata": {},
   "outputs": [],
   "source": [
    "lista_estado_civil_candidatos_labels = []\n",
    "lista_estado_civil_candidatos_valores = []\n",
    "for x, y in estado_civil_candidatos.items():\n",
    "    lista_estado_civil_candidatos_labels.append(x)\n",
    "    lista_estado_civil_candidatos_valores.append(y)"
   ]
  },
  {
   "cell_type": "code",
   "execution_count": 62,
   "metadata": {},
   "outputs": [
    {
     "data": {
      "text/plain": [
       "['CASADO(A)',\n",
       " 'SOLTEIRO(A)',\n",
       " 'SEPARADO(A) JUDICIALMENTE',\n",
       " 'DIVORCIADO(A)',\n",
       " 'VIÚVO(A)']"
      ]
     },
     "execution_count": 62,
     "metadata": {},
     "output_type": "execute_result"
    }
   ],
   "source": [
    "lista_estado_civil_candidatos_labels"
   ]
  },
  {
   "cell_type": "code",
   "execution_count": 63,
   "metadata": {},
   "outputs": [
    {
     "data": {
      "text/plain": [
       "[12995, 7543, 261, 2654, 378]"
      ]
     },
     "execution_count": 63,
     "metadata": {},
     "output_type": "execute_result"
    }
   ],
   "source": [
    "lista_estado_civil_candidatos_valores"
   ]
  },
  {
   "cell_type": "code",
   "execution_count": 64,
   "metadata": {},
   "outputs": [
    {
     "data": {
      "image/png": "[encoded data removed]",
      "text/plain": [
       "<Figure size 432x288 with 1 Axes>"
      ]
     },
     "metadata": {},
     "output_type": "display_data"
    }
   ],
   "source": [
    "plt.style.use('seaborn-pastel')\n",
    "plt.barh(lista_estado_civil_candidatos_labels, lista_estado_civil_candidatos_valores)\n",
    "plt.ylabel('Estado civil')\n",
    "plt.xlabel('número de candidatos')\n",
    "plt.title('Candidatos por estado civil')\n",
    "plt.show()"
   ]
  },
  {
   "cell_type": "code",
   "execution_count": 65,
   "metadata": {},
   "outputs": [
    {
     "data": {
      "text/plain": [
       "Counter({'CASADO(A)': 1112,\n",
       "         'DIVORCIADO(A)': 125,\n",
       "         'SOLTEIRO(A)': 289,\n",
       "         'SEPARADO(A) JUDICIALMENTE': 9,\n",
       "         'VIÚVO(A)': 13})"
      ]
     },
     "execution_count": 65,
     "metadata": {},
     "output_type": "execute_result"
    }
   ],
   "source": [
    "estado_civil_candidatos_eleitos = Counter(df_consulta_eleitos['DS_ESTADO_CIVIL'])\n",
    "estado_civil_candidatos_eleitos"
   ]
  },
  {
   "cell_type": "code",
   "execution_count": 66,
   "metadata": {},
   "outputs": [
    {
     "name": "stdout",
     "output_type": "stream",
     "text": [
      "CASADO(A): \n",
      "71.83%\n",
      "\n",
      "DIVORCIADO(A): \n",
      "8.07%\n",
      "\n",
      "SOLTEIRO(A): \n",
      "18.67%\n",
      "\n",
      "SEPARADO(A) JUDICIALMENTE: \n",
      "0.58%\n",
      "\n",
      "VIÚVO(A): \n",
      "0.84%\n",
      "\n"
     ]
    }
   ],
   "source": [
    "n_estado_civil_eleitos=sum(estado_civil_candidatos_eleitos.values())\n",
    "for x, y in estado_civil_candidatos_eleitos.items():\n",
    "    a = y/n_estado_civil_eleitos*100\n",
    "    print(str(x) + ': ' +'\\n'+ str(round(a,2)) + '%'+'\\n')"
   ]
  },
  {
   "cell_type": "code",
   "execution_count": 67,
   "metadata": {},
   "outputs": [],
   "source": [
    "lista_estado_civil_candidatos_eleitos_labels = []\n",
    "lista_estado_civil_candidatos_eleitos_valores = []\n",
    "for x, y in estado_civil_candidatos_eleitos.items():\n",
    "    lista_estado_civil_candidatos_eleitos_labels.append(x)\n",
    "    lista_estado_civil_candidatos_eleitos_valores.append(y)"
   ]
  },
  {
   "cell_type": "code",
   "execution_count": 68,
   "metadata": {},
   "outputs": [
    {
     "data": {
      "text/plain": [
       "['CASADO(A)',\n",
       " 'DIVORCIADO(A)',\n",
       " 'SOLTEIRO(A)',\n",
       " 'SEPARADO(A) JUDICIALMENTE',\n",
       " 'VIÚVO(A)']"
      ]
     },
     "execution_count": 68,
     "metadata": {},
     "output_type": "execute_result"
    }
   ],
   "source": [
    "lista_estado_civil_candidatos_eleitos_labels"
   ]
  },
  {
   "cell_type": "code",
   "execution_count": 69,
   "metadata": {},
   "outputs": [
    {
     "data": {
      "text/plain": [
       "[1112, 125, 289, 9, 13]"
      ]
     },
     "execution_count": 69,
     "metadata": {},
     "output_type": "execute_result"
    }
   ],
   "source": [
    "lista_estado_civil_candidatos_eleitos_valores"
   ]
  },
  {
   "cell_type": "code",
   "execution_count": 70,
   "metadata": {},
   "outputs": [
    {
     "data": {
      "image/png": "[encoded data removed]",
      "text/plain": [
       "<Figure size 432x288 with 1 Axes>"
      ]
     },
     "metadata": {},
     "output_type": "display_data"
    }
   ],
   "source": [
    "plt.style.use('ggplot')\n",
    "plt.barh(lista_estado_civil_candidatos_eleitos_labels, \n",
    "         lista_estado_civil_candidatos_eleitos_valores)\n",
    "plt.ylabel('Estado civil')\n",
    "plt.xlabel('número de candidatos eleitos')\n",
    "plt.title('Candidatos por estado civil - Eleitos') \n",
    "plt.show()"
   ]
  },
  {
   "cell_type": "code",
   "execution_count": null,
   "metadata": {},
   "outputs": [],
   "source": []
  },
  {
   "cell_type": "code",
   "execution_count": 71,
   "metadata": {},
   "outputs": [
    {
     "data": {
      "text/plain": [
       "count         93271\n",
       "mean         257291\n",
       "std         6875363\n",
       "min               0\n",
       "25%            8301\n",
       "50%           37000\n",
       "75%          122033\n",
       "max      1000000000\n",
       "Name: VR_BEM_CANDIDATO, dtype: int32"
      ]
     },
     "execution_count": 71,
     "metadata": {},
     "output_type": "execute_result"
    }
   ],
   "source": [
    "df_bem['VR_BEM_CANDIDATO'].describe().astype('int')"
   ]
  },
  {
   "cell_type": "code",
   "execution_count": 72,
   "metadata": {},
   "outputs": [
    {
     "data": {
      "image/png": "[encoded data removed]",
      "text/plain": [
       "<Figure size 432x288 with 1 Axes>"
      ]
     },
     "metadata": {},
     "output_type": "display_data"
    }
   ],
   "source": [
    "df_bem.VR_BEM_CANDIDATO.hist(bins=100)                           \n",
    "plt.style.use('seaborn-pastel')\n",
    "plt.xlabel(\"Valor\")\n",
    "plt.ylabel(\"Número de bens\")\n",
    "plt.title(\"Bens candidatos - valores\")\n",
    "plt.show()"
   ]
  },
  {
   "cell_type": "code",
   "execution_count": 73,
   "metadata": {},
   "outputs": [
    {
     "name": "stdout",
     "output_type": "stream",
     "text": [
      "<class 'pandas.core.frame.DataFrame'>\n",
      "Int64Index: 152 entries, 2411 to 92847\n",
      "Data columns (total 4 columns):\n",
      "SQ_CANDIDATO             152 non-null int64\n",
      "DS_TIPO_BEM_CANDIDATO    152 non-null object\n",
      "DS_BEM_CANDIDATO         152 non-null object\n",
      "VR_BEM_CANDIDATO         152 non-null float64\n",
      "dtypes: float64(1), int64(1), object(2)\n",
      "memory usage: 5.9+ KB\n"
     ]
    }
   ],
   "source": [
    "df_bem.loc[(df_bem['VR_BEM_CANDIDATO'] > 10000000)].info()"
   ]
  },
  {
   "cell_type": "code",
   "execution_count": 74,
   "metadata": {},
   "outputs": [
    {
     "name": "stdout",
     "output_type": "stream",
     "text": [
      "2411\n",
      "Candidato: 160000609227\n",
      "Tipo de bem: Quotas ou quinhões de capital\n",
      "Descrição: 17338022 QUOTAS DE CAPITAL DA EMPRESA OG ADMINISTRAÇÃO DE BENS LTDA CNPJ 05981107/0001-85\n",
      "Valor: 17338022.0\n",
      "\n",
      "3622\n",
      "Candidato: 190000602251\n",
      "Tipo de bem: Quotas ou quinhões de capital\n",
      "Descrição: 13.410.499 Quotas de Resedá Administração de Bens Próprios - CNPJ 20.558.301/0001-42 (valor da última declaração de IR)\n",
      "Valor: 13410499.0\n",
      "\n",
      "4509\n",
      "Candidato: 250000600417\n",
      "Tipo de bem: Veículo automotor terrestre: caminhão, automóvel, moto, etc.\n",
      "Descrição: fiat siena. Valor R$ 14.000,00\n",
      "Valor: 14000000.0\n",
      "\n",
      "4534\n",
      "Candidato: 270000618818\n",
      "Tipo de bem: Quotas ou quinhões de capital\n",
      "Descrição: 50% DAS COTAS DO CAPITAL DE BREST INTERNATIONAL LP SEDIADO NO REINO UNIDO, APORTE EM 13/11/12 R$ 20.835.000,00 (US$ 10.000.000), APORTE DE CAPITAL EM 10/12/2013 R$ 13.860.000,00 (US$ 6.000.000), APORT\n",
      "Valor: 47707500.0\n",
      "\n",
      "5547\n",
      "Candidato: 240000609796\n",
      "Tipo de bem: Outras participações societárias\n",
      "Descrição: Aquisição de ações da empresa DB S/A\n",
      "Valor: 24424972.0\n",
      "\n",
      "5659\n",
      "Candidato: 110000623379\n",
      "Tipo de bem: Terra nua\n",
      "Descrição: ARFA DE TERRAS COM 1248 87 HA DENTRO DE UMA ÁREA MAIOR DENOMINADA FAZENDA SANTA LAURA, EM CAMPO VERDE. MATRICULA 4 788\n",
      "Valor: 15959773.64\n",
      "\n",
      "9384\n",
      "Candidato: 170000605128\n",
      "Tipo de bem: OUTROS BENS E DIREITOS\n",
      "Descrição: Empréstimos concedidos através de instrumentos particulares de contratos mútuos\n",
      "Valor: 11950000.0\n",
      "\n",
      "9782\n",
      "Candidato: 200000611398\n",
      "Tipo de bem: Outras participações societárias\n",
      "Descrição: #NULO#\n",
      "Valor: 25046138.0\n",
      "\n",
      "11247\n",
      "Candidato: 70000613826\n",
      "Tipo de bem: Quotas ou quinhões de capital\n",
      "Descrição: #NULO#\n",
      "Valor: 241507541.0\n",
      "\n",
      "13194\n",
      "Candidato: 140000605993\n",
      "Tipo de bem: Terra nua\n",
      "Descrição: REDENÇÃO/PA - FAZENDA PAU D  ARCO\n",
      "Valor: 15000000.0\n",
      "\n",
      "13361\n",
      "Candidato: 270000618818\n",
      "Tipo de bem: Quotas ou quinhões de capital\n",
      "Descrição: 100% DAS COTAS DO CAPITAL DE BULOKE LP SEDIADA NO REINO UNIDO, APORTE DE CAPITAL EM 23/04/2013 R$ 20.270.000,00 (US$ 10.000.000) E APORTE DE CAPITAL EM 18/11/2013 R$ 5.680.000,00 (US$ 2.500.000)\n",
      "Valor: 25950000.0\n",
      "\n",
      "13711\n",
      "Candidato: 220000609852\n",
      "Tipo de bem: Fundo de Longo Prazo e Fundo de Investimentos em Direitos Creditórios (FIDC)\n",
      "Descrição: CEF. AG. 2848-7 CONTA 001.000261150.0, FUNDO DE INVESTIMENTOS.\n",
      "Valor: 14339107.4\n",
      "\n",
      "13945\n",
      "Candidato: 110000623365\n",
      "Tipo de bem: Quotas ou quinhões de capital\n",
      "Descrição: ACOES NO VALOR DE R$ 1,00 CADA UMA DA VIAGRI PARTICIPACOES S.A CNPJ 21.979.099/0001-95, ATRAVES DA INTEGRALIZACAO DAS QUOTAS DE CAPITAL DA SOCIEDADE LIMITADA AGRICOLA ALVOR\n",
      "Valor: 26593763.0\n",
      "\n",
      "13952\n",
      "Candidato: 110000623365\n",
      "Tipo de bem: Terra nua\n",
      "Descrição: FAZENDA SAO MATEUS, C/ AREA DE 800,00 HA, SITUADA NO MUN. DE GENERAL CARNEIRO/MT, HAVIDA POR PERMUTA, EM 28/07/03, C/ ANGELO CEZAR BOLONHESE E OUTROS, MATRICULA 47.404, C/ FAZENDA PIRAJUBA, C/ AREA DE\n",
      "Valor: 20000000.0\n",
      "\n",
      "15022\n",
      "Candidato: 270000618818\n",
      "Tipo de bem: Quotas ou quinhões de capital\n",
      "Descrição: 70.351.923 COTAS DO CAPITAL DE OCP PARTICIPACOES LTDA, CNPJ 07.440.155/0001-98, INTEGRALIZADAS POR 7.424 COTAS DE CRISTALIA PROD. QUIM. FARM. LTDA CNPJ 44.734.671/0001-51.\n",
      "Valor: 70351923.0\n",
      "\n",
      "15034\n",
      "Candidato: 120000603770\n",
      "Tipo de bem: Outros fundos\n",
      "Descrição: #NULO#\n",
      "Valor: 36587411.79\n",
      "\n",
      "15380\n",
      "Candidato: 60000611570\n",
      "Tipo de bem: Outras participações societárias\n",
      "Descrição: #NULO#\n",
      "Valor: 10092334.82\n",
      "\n",
      "15541\n",
      "Candidato: 110000623365\n",
      "Tipo de bem: Crédito decorrente de empréstimo\n",
      "Descrição: CREDITOS A RECEBER REF EMPRESTIMO A MATEUS EDUARDO ONÇALVES VIANA \n",
      "Valor: 31449571.91\n",
      "\n",
      "16008\n",
      "Candidato: 60000611005\n",
      "Tipo de bem: OUTROS BENS E DIREITOS\n",
      "Descrição: #NULO#\n",
      "Valor: 13750000.0\n",
      "\n",
      "16790\n",
      "Candidato: 190000607911\n",
      "Tipo de bem: Casa\n",
      "Descrição: Imóvel na rua Sara Vilela, Jardim Botânico.\n",
      "Valor: 10471450.48\n",
      "\n",
      "16854\n",
      "Candidato: 270000618818\n",
      "Tipo de bem: Outras participações societárias\n",
      "Descrição: JUROS SOBRE O CAPITAL PROPRIO DE OCP PARTICIPACOES LTDA, CNPJ 07.440.155/0001-98, CREDITO A MEU FAVOR EM 31/12/2014, TRANSFORMADO EM CONTRATO DE MUTUO EM 02/01/215 - JUROS CREDITADOS EM 2015 R$ 1.484.\n",
      "Valor: 11064293.01\n",
      "\n",
      "17182\n",
      "Candidato: 270000618818\n",
      "Tipo de bem: Outras participações societárias\n",
      "Descrição: APORTE PARA AUMENTO DE CAPITAL NA HELLEVA EMPREENDIMENTOS E PARTICIPACOES LTDA, CNPJ 10.808.864/0001-98 E APORTE DE CAPITAL EM DEZEMBRO DE 2016 NO VALOR DE R$ 22.100.000,00 E APORTE DE CAPITAL EM 2017\n",
      "Valor: 81491202.09\n",
      "\n",
      "17396\n",
      "Candidato: 190000615521\n",
      "Tipo de bem: Veículo automotor terrestre: caminhão, automóvel, moto, etc.\n",
      "Descrição: #NULO#\n",
      "Valor: 200000000.0\n",
      "\n",
      "17564\n",
      "Candidato: 250000615158\n",
      "Tipo de bem: Quotas ou quinhões de capital\n",
      "Descrição: #NULO#\n",
      "Valor: 14900000.0\n",
      "\n",
      "17565\n",
      "Candidato: 250000615158\n",
      "Tipo de bem: Fundos: Ações, Mútuos de Privatização, Invest. Empresas Emergentes, Invest.Participação e Invest. Índice Mercado\n",
      "Descrição: #NULO#\n",
      "Valor: 20829459.86\n",
      "\n",
      "17909\n",
      "Candidato: 90000605011\n",
      "Tipo de bem: Quotas ou quinhões de capital\n",
      "Descrição: #NULO#\n",
      "Valor: 16573736.4\n",
      "\n",
      "18318\n",
      "Candidato: 220000609852\n",
      "Tipo de bem: Ouro, ativo financeiro\n",
      "Descrição: RECEBIMENTO DE PRECATORIOS DE NATUREZA INDENIZATÓRIA, PAGOS PELO TJ RO, OFÍCIOS 481, 482, 452, 606, 687, 777 e 851/2014.\n",
      "Valor: 35054120.83\n",
      "\n",
      "18641\n",
      "Candidato: 200000611397\n",
      "Tipo de bem: Quotas ou quinhões de capital\n",
      "Descrição: EMPRESA BRASILEIRA DE SERVIÇOS E PERFURAÇÃO LTDA\n",
      "Valor: 31997531.0\n",
      "\n",
      "19668\n",
      "Candidato: 70000613826\n",
      "Tipo de bem: Aplicação de renda fixa (CDB, RDB e outros)\n",
      "Descrição: #NULO#\n",
      "Valor: 20128724.89\n",
      "\n",
      "19963\n",
      "Candidato: 70000613826\n",
      "Tipo de bem: Outros fundos\n",
      "Descrição: #NULO#\n",
      "Valor: 33861000.0\n",
      "\n",
      "20247\n",
      "Candidato: 160000609227\n",
      "Tipo de bem: Outras participações societárias\n",
      "Descrição: ADIANTAMENTO PARA FUTURO AUMENTO DE CAPITAL EMPRESA OG ADMINISTRAÇÃO DE BENS LTDA. ¿ CNPJ 05981107/0001-81 EM 2012 ADIANTAMENTO NO VALOR DE R$ 12.314.419,60 EM 2013 ADIANTAMENTO NO VALOR DE R$ 12.552.\n",
      "Valor: 110262071.42\n",
      "\n",
      "20444\n",
      "Candidato: 70000620298\n",
      "Tipo de bem: Quotas ou quinhões de capital\n",
      "Descrição: REAL JG SERVICOS GERAIS EIRELI, CNPJ 08.247.960/0001-62\n",
      "Valor: 32000000.0\n",
      "\n",
      "21330\n",
      "Candidato: 200000612923\n",
      "Tipo de bem: Quotas ou quinhões de capital\n",
      "Descrição: EMPRESA REPAV-RPSÁRIO \n",
      "Valor: 18099369.0\n",
      "\n",
      "22258\n",
      "Candidato: 50000606021\n",
      "Tipo de bem: Quotas ou quinhões de capital\n",
      "Descrição: #NULO#\n",
      "Valor: 45795834.0\n",
      "\n",
      "22364\n",
      "Candidato: 250000600423\n",
      "Tipo de bem: Veículo automotor terrestre: caminhão, automóvel, moto, etc.\n",
      "Descrição: gol no valor de R$ 16.000,00\n",
      "Valor: 16000000.0\n",
      "\n",
      "23420\n",
      "Candidato: 250000600426\n",
      "Tipo de bem: Casa\n",
      "Descrição: 1) 50% (cinquenta por cento) de uma casa residencial adquirida em 2001/2002, por recursos próprios, localizada na Rua Iguará, n° 417, casa 6 - Vila Alpina. Valor de R$ 850.000,00\n",
      "Valor: 850000000.0\n",
      "\n",
      "23891\n",
      "Candidato: 120000603770\n",
      "Tipo de bem: Outros fundos\n",
      "Descrição: #NULO#\n",
      "Valor: 15512356.81\n",
      "\n",
      "24456\n",
      "Candidato: 130000620731\n",
      "Tipo de bem: Terreno\n",
      "Descrição: #NULO#\n",
      "Valor: 20000000.0\n",
      "\n",
      "24646\n",
      "Candidato: 130000620731\n",
      "Tipo de bem: Terreno\n",
      "Descrição: #NULO#\n",
      "Valor: 20000000.0\n",
      "\n",
      "25678\n",
      "Candidato: 20000621745\n",
      "Tipo de bem: Aplicação de renda fixa (CDB, RDB e outros)\n",
      "Descrição: APLICAÇÃO EM LETRA DE CRÉDITO IMOBILIÁRIO PELA CEF\n",
      "Valor: 23635000.0\n",
      "\n",
      "27108\n",
      "Candidato: 210000616832\n",
      "Tipo de bem: Casa\n",
      "Descrição: #NULO#\n",
      "Valor: 45000000.0\n",
      "\n",
      "27839\n",
      "Candidato: 40000608871\n",
      "Tipo de bem: VGBL - Vida Gerador de Benefício Livre\n",
      "Descrição: #NULO#\n",
      "Valor: 15000000.0\n",
      "\n",
      "28020\n",
      "Candidato: 250000612596\n",
      "Tipo de bem: OUTROS BENS E DIREITOS\n",
      "Descrição: Crédito das quotas da Empresa CFJ Participações S/A\n",
      "Valor: 48995000.0\n",
      "\n",
      "28756\n",
      "Candidato: 270000626128\n",
      "Tipo de bem: Terreno\n",
      "Descrição: #NULO#\n",
      "Valor: 1000000000.0\n",
      "\n",
      "28890\n",
      "Candidato: 280000622281\n",
      "Tipo de bem: Fundo de Longo Prazo e Fundo de Investimentos em Direitos Creditórios (FIDC)\n",
      "Descrição: #NULO#\n",
      "Valor: 58821382.45\n",
      "\n",
      "28891\n",
      "Candidato: 280000622281\n",
      "Tipo de bem: Ações (inclusive as provenientes de linha telefônica)\n",
      "Descrição: #NULO#\n",
      "Valor: 283176015.0\n",
      "\n",
      "29758\n",
      "Candidato: 60000624966\n",
      "Tipo de bem: Quotas ou quinhões de capital\n",
      "Descrição: doação de 97% restante equivalente R$ 15.269313,20 das quotas de capital do socio José Maria Macedo JUior, CPF 197.057.864-53- adquirido no aditivo 13 A e homologado na junra comercial de Pernambuco /\n",
      "Valor: 15741560.0\n",
      "\n",
      "30043\n",
      "Candidato: 60000605098\n",
      "Tipo de bem: Quotas ou quinhões de capital\n",
      "Descrição: PARTICIPAÇÃO SOCIEDADE POR COTAS DE PARTICIPAÇÃO - SCP\n",
      "Valor: 10237500.0\n",
      "\n",
      "30918\n",
      "Candidato: 170000614073\n",
      "Tipo de bem: Crédito decorrente de empréstimo\n",
      "Descrição: EMPRESTIMO FIRMADO COM SR. LUCIANO DE MELO CPF 19559305468 CONF CONTRATOS. R$ 20.163.675,98\n",
      "Valor: 20163675.98\n",
      "\n",
      "31053\n",
      "Candidato: 50000606021\n",
      "Tipo de bem: Apartamento\n",
      "Descrição: #NULO#\n",
      "Valor: 18495479.06\n",
      "\n",
      "31334\n",
      "Candidato: 120000606863\n",
      "Tipo de bem: Quotas ou quinhões de capital\n",
      "Descrição: Quotas AGROP Taquarussu - Valor Contábil R$ 8.350.000,00\n",
      "Valor: 20450000.0\n",
      "\n",
      "32521\n",
      "Candidato: 250000615292\n",
      "Tipo de bem: Outros bens imóveis\n",
      "Descrição: #NULO#\n",
      "Valor: 12000000.0\n",
      "\n",
      "32664\n",
      "Candidato: 130000620812\n",
      "Tipo de bem: Quotas ou quinhões de capital\n",
      "Descrição: #NULO#\n",
      "Valor: 22034150.0\n",
      "\n",
      "32703\n",
      "Candidato: 210000604636\n",
      "Tipo de bem: Terreno\n",
      "Descrição: 44 FRAÇÕES DE TERRA E ESTABELICIMENTOS RURAIS COM SEMOVENTES E BENS DA ATIVIDADE RURAL\n",
      "Valor: 10212284.3\n",
      "\n",
      "32755\n",
      "Candidato: 280000607640\n",
      "Tipo de bem: Quotas ou quinhões de capital\n",
      "Descrição: #NULO#\n",
      "Valor: 39518141.43\n",
      "\n",
      "33224\n",
      "Candidato: 70000625520\n",
      "Tipo de bem: Crédito decorrente de empréstimo\n",
      "Descrição: EMPRESTIMO CONCEDIDO A MONTEMOR\n",
      "Valor: 25086520.67\n",
      "\n",
      "33261\n",
      "Candidato: 100000608139\n",
      "Tipo de bem: Quotas ou quinhões de capital\n",
      "Descrição: #NULO#\n",
      "Valor: 19500000.0\n",
      "\n",
      "34243\n",
      "Candidato: 110000612720\n",
      "Tipo de bem: Outras aplicações e Investimentos\n",
      "Descrição: FUNDO DE INVESTIMENTO - BANCO BTG PACTUAL S.A. - CNPJ 59.281.253/0001-23 - VN FIQ DE FIM CP - IE 105 - BRASIL\n",
      "Valor: 201290211.41\n",
      "\n",
      "34305\n",
      "Candidato: 250000615158\n",
      "Tipo de bem: Apartamento\n",
      "Descrição: #NULO#\n",
      "Valor: 14359457.02\n",
      "\n",
      "35059\n",
      "Candidato: 130000600645\n",
      "Tipo de bem: Outros fundos\n",
      "Descrição: Reservas de Capital Empresa Sgon Participações e Empreendimentos S/A        \n",
      "Valor: 19989989.0\n",
      "\n",
      "36178\n",
      "Candidato: 250000612596\n",
      "Tipo de bem: Quotas ou quinhões de capital\n",
      "Descrição: Cotas da empresa CFJ Administração Ltda.\n",
      "Valor: 76800000.0\n",
      "\n",
      "36239\n",
      "Candidato: 250000601941\n",
      "Tipo de bem: Depósito bancário em conta corrente no exterior\n",
      "Descrição: #NULO#\n",
      "Valor: 13584905.0\n",
      "\n",
      "36715\n",
      "Candidato: 250000612596\n",
      "Tipo de bem: Casa\n",
      "Descrição: casa na Rua Itália - São Paulo - SP\n",
      "Valor: 11296000.0\n",
      "\n",
      "37696\n",
      "Candidato: 70000613826\n",
      "Tipo de bem: Aplicação de renda fixa (CDB, RDB e outros)\n",
      "Descrição: #NULO#\n",
      "Valor: 96962604.82\n",
      "\n",
      "37743\n",
      "Candidato: 160000609227\n",
      "Tipo de bem: Quotas ou quinhões de capital\n",
      "Descrição: QUOTAS DE CAPITAL DA EMPRESA LOGS HOLDINGS CORPORATION APORTE DE CAPITAL DE 2009 A 2016 TOTAL DE US$ 12.972.646,12 = R$ 22.718.514,75, EM 2017 APORTE DE US$ 600.000,00 = R$ 1.897.380,00, PERFAZENDO TO\n",
      "Valor: 24615894.75\n",
      "\n",
      "38085\n",
      "Candidato: 60000610982\n",
      "Tipo de bem: Outras aplicações e Investimentos\n",
      "Descrição: #NULO#\n",
      "Valor: 34186691.2\n",
      "\n",
      "38345\n",
      "Candidato: 80000627604\n",
      "Tipo de bem: Quotas ou quinhões de capital\n",
      "Descrição: 30,90% - FUCAPE ENSINO PESQUISA E PARTICIPACAO LTDA. - CNPJ 06.105.333/0001-61\n",
      "Valor: 14832000.0\n",
      "\n",
      "38537\n",
      "Candidato: 110000612716\n",
      "Tipo de bem: Quotas ou quinhões de capital\n",
      "Descrição: QUOTAS DE CAPITAL (95,0%) DA EMPRESA RAF CONSTRUCOES E PARTICIPACOES LTDA - CNPJ: 32.932.253/0001-90 - CONSTITUIDA EM 02/03/1989.\n",
      "Valor: 44347900.0\n",
      "\n",
      "38652\n",
      "Candidato: 80000628007\n",
      "Tipo de bem: OUTROS BENS E DIREITOS\n",
      "Descrição: #NULO#\n",
      "Valor: 17800000.0\n",
      "\n",
      "39000\n",
      "Candidato: 140000606017\n",
      "Tipo de bem: Benfeitorias\n",
      "Descrição: BENFEITORIAS IMPLANTADAS - PROPRIEDADE RURAL FAZENDA MONTANA - ÁREA DE 4.536.000 HA. - CUMARÚ DO NORTE/PA\n",
      "Valor: 13145500.0\n",
      "\n",
      "39541\n",
      "Candidato: 110000613186\n",
      "Tipo de bem: Outros bens imóveis\n",
      "Descrição: IMOVEL RURAL DENOMINADO FAZENDA SAO JOSE, SITUADO NA SESMARIA MARZAGAO, NO MUNICIPIO DE ROSARIO OETE/MT, SOB MATRICULA N. 14.429 DO RGI DE ROSARIO OESTE/MT, COM AREA DE 13.068 HA\n",
      "Valor: 22750000.0\n",
      "\n",
      "39752\n",
      "Candidato: 110000623365\n",
      "Tipo de bem: Terra nua\n",
      "Descrição: AREA DE TERRA C/ 1.080,4031 HA DENOMINADA FAZENDA SAO MATEUS, LOCALIZADA NO MUNICIPO DE GENERAL CARNEIRO, MATRICULA R 25098\n",
      "Valor: 27000000.0\n",
      "\n",
      "40029\n",
      "Candidato: 270000618818\n",
      "Tipo de bem: Quotas ou quinhões de capital\n",
      "Descrição: 31.581.745 COTAS DO CAPITAL DE HELLEVA EMPREENDIMENTOS E PARTICIPACOES LTDA, CNPJ 10.808.864/0001-98. CAPITALIZACAO DE IMOVEL NO VALOR DE R$ 1.900.000,00 EM 31/08/2010 E APORTE EM MOEDA NO VALOR DE R$\n",
      "Valor: 31581745.0\n",
      "\n",
      "40111\n",
      "Candidato: 90000618927\n",
      "Tipo de bem: Bem relacionado com o exercício da atividade autônoma\n",
      "Descrição: #NULO#\n",
      "Valor: 19500000.0\n",
      "\n",
      "41640\n",
      "Candidato: 270000618818\n",
      "Tipo de bem: Outras participações societárias\n",
      "Descrição: JUROS SOBRE O CAPITAL PROPRIO DE OCP PARTICIPACOES LTDA, CNPJ 07.440.155/0001-98, CREDITO A MEU FAVOR EM 31/12/2017, TRANSFORMADO EM CONTRATO DE MUTUO EM 02/01/2018 - JUROS CREDITADOS EM 2018 R$ 1.077\n",
      "Valor: 28831799.72\n",
      "\n",
      "42461\n",
      "Candidato: 70000602381\n",
      "Tipo de bem: Fundos: Ações, Mútuos de Privatização, Invest. Empresas Emergentes, Invest.Participação e Invest. Índice Mercado\n",
      "Descrição: BB PR MULTIMERCADO\n",
      "Valor: 10773135.79\n",
      "\n",
      "42512\n",
      "Candidato: 70000625520\n",
      "Tipo de bem: Crédito decorrente de empréstimo\n",
      "Descrição: SALDO DE EMPRESTIMO À EMPRESA ALVORAN PARTICIPAÇOES LTDA\n",
      "Valor: 23736468.75\n",
      "\n",
      "42726\n",
      "Candidato: 130000612254\n",
      "Tipo de bem: Quotas ou quinhões de capital\n",
      "Descrição: #NULO#\n",
      "Valor: 19197428.0\n",
      "\n",
      "43095\n",
      "Candidato: 90000613473\n",
      "Tipo de bem: Outros fundos\n",
      "Descrição: #NULO#\n",
      "Valor: 20847318.75\n",
      "\n",
      "43436\n",
      "Candidato: 130000624459\n",
      "Tipo de bem: Quotas ou quinhões de capital\n",
      "Descrição: 60% CAP HOLDING LTDA\n",
      "Valor: 29758163.0\n",
      "\n",
      "43533\n",
      "Candidato: 240000627226\n",
      "Tipo de bem: Quotas ou quinhões de capital\n",
      "Descrição: Participação na empresa Apti Alimentos Ltda\n",
      "Valor: 11655000.0\n",
      "\n",
      "45586\n",
      "Candidato: 70000613826\n",
      "Tipo de bem: Crédito decorrente de empréstimo\n",
      "Descrição: #NULO#\n",
      "Valor: 69842474.73\n",
      "\n",
      "45587\n",
      "Candidato: 70000613826\n",
      "Tipo de bem: Quotas ou quinhões de capital\n",
      "Descrição: #NULO#\n",
      "Valor: 23369471.3\n",
      "\n",
      "46144\n",
      "Candidato: 210000615835\n",
      "Tipo de bem: Casa\n",
      "Descrição: #NULO#\n",
      "Valor: 170000000.0\n",
      "\n",
      "48422\n",
      "Candidato: 110000612713\n",
      "Tipo de bem: Ações (inclusive as provenientes de linha telefônica)\n",
      "Descrição: POSSUI 52.859.440 ACOES ORDINARIA NOMINATIVAS E 52.859.440 ACOES PREFERENCIAIS NOMINATIVAS JUNTO A EMPRESA BIPAR INVESTIMENTOS E PARTICIPACOES, CFE AGO E BOLETIM DE SUBSCRICAO 19/12/2011\n",
      "Valor: 105718880.0\n",
      "\n",
      "49318\n",
      "Candidato: 250000603012\n",
      "Tipo de bem: Outras participações societárias\n",
      "Descrição: #NULO#\n",
      "Valor: 16000000.0\n",
      "\n",
      "49746\n",
      "Candidato: 250000604088\n",
      "Tipo de bem: Outros bens imóveis\n",
      "Descrição: FAZENDA\n",
      "Valor: 13000000.0\n",
      "\n",
      "49940\n",
      "Candidato: 250000600426\n",
      "Tipo de bem: OUTROS BENS E DIREITOS\n",
      "Descrição: 50% (cinquenta por cento) de um imóvel urbano denominado lote 15, da quadra 135, do Loteamento Residencial Campo Belo, localizado na cidade de Monte Castelo - SP. Valor de R$50.642,00\n",
      "Valor: 50642000.0\n",
      "\n",
      "50045\n",
      "Candidato: 280000607640\n",
      "Tipo de bem: Fundos: Ações, Mútuos de Privatização, Invest. Empresas Emergentes, Invest.Participação e Invest. Índice Mercado\n",
      "Descrição: #NULO#\n",
      "Valor: 11063444.34\n",
      "\n",
      "50411\n",
      "Candidato: 130000620731\n",
      "Tipo de bem: Terreno\n",
      "Descrição: #NULO#\n",
      "Valor: 20000000.0\n",
      "\n",
      "50448\n",
      "Candidato: 10000600154\n",
      "Tipo de bem: Outros bens imóveis\n",
      "Descrição: #NULO#\n",
      "Valor: 1000000000.0\n",
      "\n",
      "50589\n",
      "Candidato: 130000620731\n",
      "Tipo de bem: Terreno\n",
      "Descrição: #NULO#\n",
      "Valor: 20000000.0\n",
      "\n",
      "50599\n",
      "Candidato: 280000607640\n",
      "Tipo de bem: Fundo de Longo Prazo e Fundo de Investimentos em Direitos Creditórios (FIDC)\n",
      "Descrição: #NULO#\n",
      "Valor: 44267410.59\n",
      "\n",
      "53855\n",
      "Candidato: 10000602289\n",
      "Tipo de bem: Terreno\n",
      "Descrição: #NULO#\n",
      "Valor: 15000000.0\n",
      "\n",
      "54010\n",
      "Candidato: 130000606458\n",
      "Tipo de bem: Quotas ou quinhões de capital\n",
      "Descrição: #NULO#\n",
      "Valor: 15000000.0\n",
      "\n",
      "54604\n",
      "Candidato: 210000615836\n",
      "Tipo de bem: Casa\n",
      "Descrição: #NULO#\n",
      "Valor: 120000000.0\n",
      "\n",
      "55014\n",
      "Candidato: 60000605116\n",
      "Tipo de bem: Quotas ou quinhões de capital\n",
      "Descrição: APORTE PARA FUTURO AUMENTO DO CAPITAL SOCIAL NA SOC. STA MONICA AGROP. E SERVS. LTDA\n",
      "Valor: 14524731.58\n",
      "\n",
      "55210\n",
      "Candidato: 70000613826\n",
      "Tipo de bem: Quotas ou quinhões de capital\n",
      "Descrição: #NULO#\n",
      "Valor: 55047748.0\n",
      "\n",
      "55329\n",
      "Candidato: 160000609227\n",
      "Tipo de bem: Outras aplicações e Investimentos\n",
      "Descrição: DEBENTURES- OS SECURITIZADORA ¿ ADQUIRIDO EM 2011 R$ 9.600.000,00 AQUISIÇÃO EM 2012 APLICADO 1.700.000,00 E RESGATADO EM 2012 1.300.000,00 APLICAÇÃO EM 2013 R$ 1.600,000,00 EM 2014 AQUISIÇÃO DEBENTURE\n",
      "Valor: 20100000.0\n",
      "\n",
      "55349\n",
      "Candidato: 250000600421\n",
      "Tipo de bem: Apartamento\n",
      "Descrição: 50% de 1/6 de yn prédio em Tanabi. Valor de R$ 40.000,00\n",
      "Valor: 40000000.0\n",
      "\n",
      "55969\n",
      "Candidato: 190000602251\n",
      "Tipo de bem: Aplicação de renda fixa (CDB, RDB e outros)\n",
      "Descrição: Diversas aplicações em renda fixa (instituições financeiras e títulos públicos) (valor em 20/7/2018)\n",
      "Valor: 26128054.1\n",
      "\n",
      "56094\n",
      "Candidato: 120000623874\n",
      "Tipo de bem: Outras participações societárias\n",
      "Descrição: Participação Societaria na empresa Riverside Empreendimentos Imobiliarios CNPJ 08.594.311/0001-38\n",
      "Valor: 20000000.0\n",
      "\n",
      "56957\n",
      "Candidato: 230000608396\n",
      "Tipo de bem: Terreno\n",
      "Descrição: 10 lotes de terras no Bairro Centenario Boa Vista RR\n",
      "Valor: 15000000.0\n",
      "\n",
      "58496\n",
      "Candidato: 120000603770\n",
      "Tipo de bem: Outras participações societárias\n",
      "Descrição: #NULO#\n",
      "Valor: 12722903.6\n",
      "\n",
      "60840\n",
      "Candidato: 250000600414\n",
      "Tipo de bem: Casa\n",
      "Descrição: localizado em Paraibuna no valor de R$ 600.000,00\n",
      "Valor: 600000000.0\n",
      "\n",
      "62671\n",
      "Candidato: 240000609796\n",
      "Tipo de bem: Outras participações societárias\n",
      "Descrição: Aquisição de ações da empresa DB S/A\n",
      "Valor: 24424970.0\n",
      "\n",
      "63676\n",
      "Candidato: 270000602793\n",
      "Tipo de bem: Quotas ou quinhões de capital\n",
      "Descrição: #NULO#\n",
      "Valor: 12966000.0\n",
      "\n",
      "63837\n",
      "Candidato: 70000613826\n",
      "Tipo de bem: Quotas ou quinhões de capital\n",
      "Descrição: #NULO#\n",
      "Valor: 18022522.75\n",
      "\n",
      "65226\n",
      "Candidato: 250000600429\n",
      "Tipo de bem: Veículo automotor terrestre: caminhão, automóvel, moto, etc.\n",
      "Descrição: veículo santa fé no valor de R$ 38.000,00\n",
      "Valor: 38000000.0\n",
      "\n",
      "65273\n",
      "Candidato: 100000609103\n",
      "Tipo de bem: Terreno\n",
      "Descrição: #NULO#\n",
      "Valor: 15000000.0\n",
      "\n",
      "67384\n",
      "Candidato: 110000623365\n",
      "Tipo de bem: Crédito decorrente de empréstimo\n",
      "Descrição: CREDITO REF EMPRESTIMO A FERNANDO FIGUEREDO FUTURA AQUISICAO DE TERRA\n",
      "Valor: 23554245.0\n",
      "\n",
      "67475\n",
      "Candidato: 250000600426\n",
      "Tipo de bem: OUTROS BENS E DIREITOS\n",
      "Descrição: 3) 50% (cinquenta por cento) de um imóvel urbano denominado lote 14, da quadra 135, do Loteamento Residencial Campo Belo. Valor de R$50.642,00 \n",
      "Valor: 50642000.0\n",
      "\n",
      "67513\n",
      "Candidato: 120000603770\n",
      "Tipo de bem: Outras participações societárias\n",
      "Descrição: #NULO#\n",
      "Valor: 25900106.1\n",
      "\n",
      "67845\n",
      "Candidato: 280000607640\n",
      "Tipo de bem: Quotas ou quinhões de capital\n",
      "Descrição: #NULO#\n",
      "Valor: 68972158.71\n",
      "\n",
      "68990\n",
      "Candidato: 270000618818\n",
      "Tipo de bem: Outras participações societárias\n",
      "Descrição: JUROS SOBRE O CAPITAL PROPRIO DE OCP PARTICIPACOES LTDA, CNPJ 07.440.155/0001-98, TRANSFORMADO EM CONTRATO DE MUTUO EM 02/01/2017 - JUROS CREDITADOS EM 2017 R$ 2.544.678,79 - JUROS CREDITADOS EM 2018 \n",
      "Valor: 25587555.42\n",
      "\n",
      "69590\n",
      "Candidato: 90000613469\n",
      "Tipo de bem: Ações (inclusive as provenientes de linha telefônica)\n",
      "Descrição: #NULO#\n",
      "Valor: 15839670.0\n",
      "\n",
      "69873\n",
      "Candidato: 250000615158\n",
      "Tipo de bem: Quotas ou quinhões de capital\n",
      "Descrição: #NULO#\n",
      "Valor: 28950000.0\n",
      "\n",
      "71553\n",
      "Candidato: 110000623365\n",
      "Tipo de bem: Terra nua\n",
      "Descrição: AREA DE TERRA DE 402,4615 HA, DENOMINADA FAZENDA FLUMINENSE, NR. NA S.R.F. 4698323-6, ADQ. EM 06/05/99 DE PEDRO GONCALVES VIANA NETO, CPF 655.510.879-72 POR R$-19.740,00 105\n",
      "Valor: 14000000.0\n",
      "\n",
      "71717\n",
      "Candidato: 160000629093\n",
      "Tipo de bem: Ações (inclusive as provenientes de linha telefônica)\n",
      "Descrição: #NULO#\n",
      "Valor: 28022266.0\n",
      "\n",
      "72015\n",
      "Candidato: 280000607640\n",
      "Tipo de bem: Aplicação de renda fixa (CDB, RDB e outros)\n",
      "Descrição: #NULO#\n",
      "Valor: 217538262.19\n",
      "\n",
      "72029\n",
      "Candidato: 90000618358\n",
      "Tipo de bem: Outros fundos\n",
      "Descrição: #NULO#\n",
      "Valor: 12500000.0\n",
      "\n",
      "72136\n",
      "Candidato: 130000620815\n",
      "Tipo de bem: Casa\n",
      "Descrição: #NULO#\n",
      "Valor: 10300000.0\n",
      "\n",
      "72182\n",
      "Candidato: 130000620731\n",
      "Tipo de bem: Terreno\n",
      "Descrição: #NULO#\n",
      "Valor: 20000000.0\n",
      "\n",
      "72992\n",
      "Candidato: 160000619710\n",
      "Tipo de bem: Quotas ou quinhões de capital\n",
      "Descrição: ARR Participações Sociais LTDA\n",
      "Valor: 13352273.53\n",
      "\n",
      "74446\n",
      "Candidato: 180000614004\n",
      "Tipo de bem: Outras participações societárias\n",
      "Descrição: Sócio Proprietário da Empresa Ciro Nogueira Comércio de Motocicletas Ltda ¿ 02.297.980/0001-61, partic. de 94% do Cap. Social.\n",
      "Valor: 18800000.0\n",
      "\n",
      "75133\n",
      "Candidato: 70000614515\n",
      "Tipo de bem: Crédito decorrente de empréstimo\n",
      "Descrição: #NULO#\n",
      "Valor: 55220060.93\n",
      "\n",
      "76191\n",
      "Candidato: 250000612596\n",
      "Tipo de bem: Quotas ou quinhões de capital\n",
      "Descrição: 100% das quotas da empresa D. Empreendimentos\n",
      "Valor: 44150000.0\n",
      "\n",
      "76697\n",
      "Candidato: 280000622281\n",
      "Tipo de bem: Apartamento\n",
      "Descrição: #NULO#\n",
      "Valor: 21877940.3\n",
      "\n",
      "77320\n",
      "Candidato: 250000600416\n",
      "Tipo de bem: Casa\n",
      "Descrição: Imóvel Rua Professor Vasconcelos Sarmento no valor de R$ 340.000,00\n",
      "Valor: 340000000.0\n",
      "\n",
      "77372\n",
      "Candidato: 250000600423\n",
      "Tipo de bem: Casa\n",
      "Descrição: 04 chácaras no valor de R$ 480.000,00\n",
      "Valor: 480000000.0\n",
      "\n",
      "77573\n",
      "Candidato: 250000613713\n",
      "Tipo de bem: Quotas ou quinhões de capital\n",
      "Descrição: #NULO#\n",
      "Valor: 42500000.0\n",
      "\n",
      "78654\n",
      "Candidato: 160000623134\n",
      "Tipo de bem: Quotas ou quinhões de capital\n",
      "Descrição: SIAL CONSTRUÇÕES CIVIS LTDA\n",
      "Valor: 20493000.0\n",
      "\n",
      "79484\n",
      "Candidato: 60000605116\n",
      "Tipo de bem: Ações (inclusive as provenientes de linha telefônica)\n",
      "Descrição: PARTICIPAÇÃO DE 99,99% NA SOCIEDADE REMMO PARTICIPAÇÕES S/A\n",
      "Valor: 19762999.0\n",
      "\n",
      "82728\n",
      "Candidato: 190000602251\n",
      "Tipo de bem: Casa\n",
      "Descrição: Rio de Janeiro - RJ, Matrícula 024 do 2. Ofício do RGI (valor da última declaração de IR)\n",
      "Valor: 10500000.0\n",
      "\n",
      "84653\n",
      "Candidato: 130000611048\n",
      "Tipo de bem: Outros bens imóveis\n",
      "Descrição: #NULO#\n",
      "Valor: 14423791.0\n",
      "\n",
      "86124\n",
      "Candidato: 110000623365\n",
      "Tipo de bem: Terra nua\n",
      "Descrição: AREA DE TERRAS C/ 824,7092 HA DENOMINADA FAZENDA NOSSA SENHORA APARECIDA, LOCALIZADA NO MUNIC. DE NOVO SANTO ANTONIO/MT DESCRITA NA MATR. 15822 CFE ESCRITURA PUBLICA DE COMP E VENDA EM 10/12/2012\n",
      "Valor: 16000000.0\n",
      "\n",
      "86521\n",
      "Candidato: 250000600423\n",
      "Tipo de bem: Outros bens imóveis\n",
      "Descrição: 01 barracão no valor de R$ 700.000,00\n",
      "Valor: 700000000.0\n",
      "\n",
      "88085\n",
      "Candidato: 70000613826\n",
      "Tipo de bem: Fundo de Longo Prazo e Fundo de Investimentos em Direitos Creditórios (FIDC)\n",
      "Descrição: #NULO#\n",
      "Valor: 60557954.45\n",
      "\n",
      "88635\n",
      "Candidato: 130000620843\n",
      "Tipo de bem: Aplicação de renda fixa (CDB, RDB e outros)\n",
      "Descrição: #NULO#\n",
      "Valor: 10341285.56\n",
      "\n",
      "89277\n",
      "Candidato: 110000612720\n",
      "Tipo de bem: Quotas ou quinhões de capital\n",
      "Descrição: COTAS DE CAPITAL - AGROPECUARIA MARGARIDA LTDA CNPJ 37.486.735/0001-87\n",
      "Valor: 122316478.0\n",
      "\n",
      "89284\n",
      "Candidato: 130000600702\n",
      "Tipo de bem: Quotas ou quinhões de capital\n",
      "Descrição: 28,36% CAPITAL DA EMPRESA RICARDO ZEMA PARTICIPAÇÕES LTDA, CNPJ: 20.028.361/0001-53\n",
      "Valor: 60514129.0\n",
      "\n",
      "89324\n",
      "Candidato: 110000623365\n",
      "Tipo de bem: Terra nua\n",
      "Descrição: UMA AREA DE TERRA DENOMINADA FAZENDA SAO MATEUS, C/ AREA DE MUN. DE GENERAL CARNEIRO/MT, ADQ. EM 06/04/2004 DE CLEITON EUSTAQUIO ROCHA - MATRICULA 34.724\n",
      "Valor: 11000000.0\n",
      "\n",
      "89335\n",
      "Candidato: 260000616192\n",
      "Tipo de bem: Bem relacionado com o exercício da atividade autônoma\n",
      "Descrição: #NULO#\n",
      "Valor: 12400000.0\n",
      "\n",
      "89495\n",
      "Candidato: 250000600426\n",
      "Tipo de bem: Veículo automotor terrestre: caminhão, automóvel, moto, etc.\n",
      "Descrição: 5) 50% (cinquenta por cento) de um veículo da marca Honda, modelo CITY LX 1.5. Valor de R$ 58.000,00\n",
      "Valor: 58000000.0\n",
      "\n",
      "89817\n",
      "Candidato: 60000611774\n",
      "Tipo de bem: Outras participações societárias\n",
      "Descrição: #NULO#\n",
      "Valor: 10350000.0\n",
      "\n",
      "91485\n",
      "Candidato: 270000618818\n",
      "Tipo de bem: Aplicação de renda fixa (CDB, RDB e outros)\n",
      "Descrição: APLICADO NO VIDA GERADOR DE BENEFICIO LIVRE (VGBL) - ITAU PREVIDENCIA E SEGUROS S/A\n",
      "Valor: 12825376.7\n",
      "\n",
      "91521\n",
      "Candidato: 50000606021\n",
      "Tipo de bem: Outras aplicações e Investimentos\n",
      "Descrição: #NULO#\n",
      "Valor: 10701872.07\n",
      "\n",
      "91658\n",
      "Candidato: 110000623365\n",
      "Tipo de bem: Terra nua\n",
      "Descrição: UMA AREA DE TERRAS COM 2.065,0 HA, MATRICULA NR.42536, ADQUIRIDO DE AVELINO SPRESSAO, CPF. 261.963.368-00 EM 16.08.96\n",
      "Valor: 41000000.0\n",
      "\n",
      "91659\n",
      "Candidato: 110000623365\n",
      "Tipo de bem: Terra nua\n",
      "Descrição: UMA AREA DE TERRA DENOMINADA FAZENDA NOVA ALVORADA, C/ AREA DE 15,1789 HA, SITUADA NO MUN. DE CAMPINAPOLIS/MT, ADO. EM 15/12/2015 DE COMERCIAL MACIEL   VIEIRA LTDA CNPJ 03.771.144/0001\n",
      "Valor: 12000000.0\n",
      "\n",
      "92569\n",
      "Candidato: 130000620731\n",
      "Tipo de bem: Terreno\n",
      "Descrição: #NULO#\n",
      "Valor: 20000000.0\n",
      "\n",
      "92586\n",
      "Candidato: 220000625839\n",
      "Tipo de bem: Terra nua\n",
      "Descrição: FAZENDA SANTA MARIA COM AREA DE 1.899.8770 HA, LT 27/1 GL 06 LH 65 - SANTA LUZIA DO OESTE - RO.\n",
      "Valor: 27700000.0\n",
      "\n",
      "92847\n",
      "Candidato: 270000618818\n",
      "Tipo de bem: Outras participações societárias\n",
      "Descrição: JUROS SOBRE O CAPITAL PROPRIO DE OCP PARTICIPACOES LTDA, CNPJ 07.440.155/0001-98, CREDITO A MEU FAVOR EM 31/12/2015 E TRANSFORMADO EM CONTRATO DE MUTUO EM 02/01/2016 - JUROS CREDITADOS EM 2016 R$ 2.48\n",
      "Valor: 17634892.42\n",
      "\n"
     ]
    }
   ],
   "source": [
    "for index, row in df_bem.loc[(df_bem['VR_BEM_CANDIDATO'] > 10000000)].iterrows():\n",
    "    print(index)\n",
    "    print('Candidato: ' + str(row['SQ_CANDIDATO']))\n",
    "    print('Tipo de bem: ' + row['DS_TIPO_BEM_CANDIDATO'])\n",
    "    print('Descrição: ' + row['DS_BEM_CANDIDATO'])\n",
    "    print('Valor: '+ str(row['VR_BEM_CANDIDATO']) + '\\n')"
   ]
  },
  {
   "cell_type": "code",
   "execution_count": 75,
   "metadata": {},
   "outputs": [],
   "source": [
    "df_bem.at[4509, 'VR_BEM_CANDIDATO'] = 14000\n",
    "df_bem.at[17396, 'VR_BEM_CANDIDATO'] = 0\n",
    "df_bem.at[22364, 'VR_BEM_CANDIDATO'] = 16000\n",
    "df_bem.at[23420, 'VR_BEM_CANDIDATO'] = 850000\n",
    "df_bem.at[28756, 'VR_BEM_CANDIDATO'] = 0\n",
    "df_bem.at[49940, 'VR_BEM_CANDIDATO'] = 50642\n",
    "df_bem.at[50448, 'VR_BEM_CANDIDATO'] = 0\n",
    "df_bem.at[55349, 'VR_BEM_CANDIDATO'] = 40000\n",
    "df_bem.at[60840, 'VR_BEM_CANDIDATO'] = 600000\n",
    "df_bem.at[65226, 'VR_BEM_CANDIDATO'] = 38000\n",
    "df_bem.at[67475, 'VR_BEM_CANDIDATO'] = 50642\n",
    "df_bem.at[77320, 'VR_BEM_CANDIDATO'] = 340000\n",
    "df_bem.at[77372, 'VR_BEM_CANDIDATO'] = 480000\n",
    "df_bem.at[86521, 'VR_BEM_CANDIDATO'] = 700000\n",
    "df_bem.at[89495, 'VR_BEM_CANDIDATO'] = 58000"
   ]
  },
  {
   "cell_type": "code",
   "execution_count": 76,
   "metadata": {},
   "outputs": [
    {
     "data": {
      "text/plain": [
       "count        93271\n",
       "mean        199030\n",
       "std        2174254\n",
       "min              0\n",
       "25%           8300\n",
       "50%          37000\n",
       "75%         122000\n",
       "max      283176015\n",
       "Name: VR_BEM_CANDIDATO, dtype: int32"
      ]
     },
     "execution_count": 76,
     "metadata": {},
     "output_type": "execute_result"
    }
   ],
   "source": [
    "df_bem['VR_BEM_CANDIDATO'].describe().astype('int')"
   ]
  },
  {
   "cell_type": "code",
   "execution_count": 77,
   "metadata": {},
   "outputs": [],
   "source": [
    "df_bem = df_bem.groupby(['SQ_CANDIDATO']).sum()"
   ]
  },
  {
   "cell_type": "code",
   "execution_count": 78,
   "metadata": {},
   "outputs": [
    {
     "name": "stdout",
     "output_type": "stream",
     "text": [
      "<class 'pandas.core.frame.DataFrame'>\n",
      "Int64Index: 17614 entries, 10000600001 to 280000629808\n",
      "Data columns (total 1 columns):\n",
      "VR_BEM_CANDIDATO    17614 non-null float64\n",
      "dtypes: float64(1)\n",
      "memory usage: 275.2 KB\n"
     ]
    }
   ],
   "source": [
    "df_bem.info()"
   ]
  },
  {
   "cell_type": "code",
   "execution_count": 79,
   "metadata": {},
   "outputs": [
    {
     "data": {
      "text/plain": [
       "count        17614\n",
       "mean       1053921\n",
       "std        9255080\n",
       "min              0\n",
       "25%          60000\n",
       "50%         227389\n",
       "75%         650000\n",
       "max      667953170\n",
       "Name: VR_BEM_CANDIDATO, dtype: int32"
      ]
     },
     "execution_count": 79,
     "metadata": {},
     "output_type": "execute_result"
    }
   ],
   "source": [
    "df_bem['VR_BEM_CANDIDATO'].describe().astype('int')"
   ]
  },
  {
   "cell_type": "code",
   "execution_count": 80,
   "metadata": {},
   "outputs": [
    {
     "data": {
      "image/png": "[encoded data removed]",
      "text/plain": [
       "<Figure size 432x288 with 1 Axes>"
      ]
     },
     "metadata": {},
     "output_type": "display_data"
    }
   ],
   "source": [
    "df_bem.VR_BEM_CANDIDATO.hist(bins=100)\n",
    "plt.style.use('seaborn-pastel')\n",
    "plt.xlabel(\"Valor\")\n",
    "plt.ylabel(\"Número de candidatos\")\n",
    "plt.title(\"Total de bens dos candidatos\")\n",
    "plt.show()"
   ]
  },
  {
   "cell_type": "code",
   "execution_count": 81,
   "metadata": {},
   "outputs": [],
   "source": [
    "df_bem_10mi = df_bem.loc[(df_bem['VR_BEM_CANDIDATO'] < 10000000)]"
   ]
  },
  {
   "cell_type": "code",
   "execution_count": 82,
   "metadata": {},
   "outputs": [
    {
     "data": {
      "image/png": "[encoded data removed]",
      "text/plain": [
       "<Figure size 432x288 with 1 Axes>"
      ]
     },
     "metadata": {},
     "output_type": "display_data"
    }
   ],
   "source": [
    "df_bem_10mi.VR_BEM_CANDIDATO.hist(bins=100)\n",
    "plt.style.use('seaborn-pastel')\n",
    "plt.xlabel(\"Valor\")\n",
    "plt.ylabel(\"Número de candidatos\")\n",
    "plt.title(\"Total de bens dos candidatos\")\n",
    "plt.show()"
   ]
  },
  {
   "cell_type": "code",
   "execution_count": 83,
   "metadata": {},
   "outputs": [],
   "source": [
    "df_consulta = df_consulta.set_index('SQ_CANDIDATO')"
   ]
  },
  {
   "cell_type": "code",
   "execution_count": 84,
   "metadata": {},
   "outputs": [
    {
     "name": "stdout",
     "output_type": "stream",
     "text": [
      "<class 'pandas.core.frame.DataFrame'>\n",
      "Int64Index: 23831 entries, 260000607562 to 90000607680\n",
      "Data columns (total 6 columns):\n",
      "NR_IDADE_DATA_POSSE    23831 non-null int64\n",
      "DS_GENERO              23831 non-null object\n",
      "DS_GRAU_INSTRUCAO      23831 non-null object\n",
      "DS_ESTADO_CIVIL        23831 non-null object\n",
      "DS_COR_RACA            23831 non-null object\n",
      "DS_SIT_TOT_TURNO       23831 non-null object\n",
      "dtypes: int64(1), object(5)\n",
      "memory usage: 1.3+ MB\n"
     ]
    }
   ],
   "source": [
    "df_consulta.info()"
   ]
  },
  {
   "cell_type": "code",
   "execution_count": 85,
   "metadata": {},
   "outputs": [],
   "source": [
    "df_consolidado = df_consulta.join(df_bem)"
   ]
  },
  {
   "cell_type": "code",
   "execution_count": 86,
   "metadata": {},
   "outputs": [
    {
     "name": "stdout",
     "output_type": "stream",
     "text": [
      "<class 'pandas.core.frame.DataFrame'>\n",
      "Int64Index: 23831 entries, 260000607562 to 90000607680\n",
      "Data columns (total 7 columns):\n",
      "NR_IDADE_DATA_POSSE    23831 non-null int64\n",
      "DS_GENERO              23831 non-null object\n",
      "DS_GRAU_INSTRUCAO      23831 non-null object\n",
      "DS_ESTADO_CIVIL        23831 non-null object\n",
      "DS_COR_RACA            23831 non-null object\n",
      "DS_SIT_TOT_TURNO       23831 non-null object\n",
      "VR_BEM_CANDIDATO       14677 non-null float64\n",
      "dtypes: float64(1), int64(1), object(5)\n",
      "memory usage: 2.1+ MB\n"
     ]
    }
   ],
   "source": [
    "df_consolidado.info()"
   ]
  },
  {
   "cell_type": "code",
   "execution_count": 87,
   "metadata": {},
   "outputs": [
    {
     "data": {
      "text/plain": [
       "NR_IDADE_DATA_POSSE       0\n",
       "DS_GENERO                 0\n",
       "DS_GRAU_INSTRUCAO         0\n",
       "DS_ESTADO_CIVIL           0\n",
       "DS_COR_RACA               0\n",
       "DS_SIT_TOT_TURNO          0\n",
       "VR_BEM_CANDIDATO       9154\n",
       "dtype: int64"
      ]
     },
     "execution_count": 87,
     "metadata": {},
     "output_type": "execute_result"
    }
   ],
   "source": [
    "df_consolidado.isnull().sum()"
   ]
  },
  {
   "cell_type": "code",
   "execution_count": 88,
   "metadata": {},
   "outputs": [],
   "source": [
    "df_consolidado.fillna(0, inplace = True)"
   ]
  },
  {
   "cell_type": "code",
   "execution_count": 89,
   "metadata": {},
   "outputs": [
    {
     "name": "stdout",
     "output_type": "stream",
     "text": [
      "<class 'pandas.core.frame.DataFrame'>\n",
      "Int64Index: 23831 entries, 260000607562 to 90000607680\n",
      "Data columns (total 7 columns):\n",
      "NR_IDADE_DATA_POSSE    23831 non-null int64\n",
      "DS_GENERO              23831 non-null object\n",
      "DS_GRAU_INSTRUCAO      23831 non-null object\n",
      "DS_ESTADO_CIVIL        23831 non-null object\n",
      "DS_COR_RACA            23831 non-null object\n",
      "DS_SIT_TOT_TURNO       23831 non-null object\n",
      "VR_BEM_CANDIDATO       23831 non-null float64\n",
      "dtypes: float64(1), int64(1), object(5)\n",
      "memory usage: 2.1+ MB\n"
     ]
    }
   ],
   "source": [
    "df_consolidado.info()"
   ]
  },
  {
   "cell_type": "code",
   "execution_count": 90,
   "metadata": {},
   "outputs": [],
   "source": [
    "df_consolidado_eleitos = df_consolidado[df_consulta.DS_SIT_TOT_TURNO.isin(['ELEITO POR MÉDIA',\n",
    "                                                     'ELEITO POR QP'])]"
   ]
  },
  {
   "cell_type": "code",
   "execution_count": 91,
   "metadata": {},
   "outputs": [
    {
     "name": "stdout",
     "output_type": "stream",
     "text": [
      "<class 'pandas.core.frame.DataFrame'>\n",
      "Int64Index: 1548 entries, 240000600256 to 170000616969\n",
      "Data columns (total 7 columns):\n",
      "NR_IDADE_DATA_POSSE    1548 non-null int64\n",
      "DS_GENERO              1548 non-null object\n",
      "DS_GRAU_INSTRUCAO      1548 non-null object\n",
      "DS_ESTADO_CIVIL        1548 non-null object\n",
      "DS_COR_RACA            1548 non-null object\n",
      "DS_SIT_TOT_TURNO       1548 non-null object\n",
      "VR_BEM_CANDIDATO       1548 non-null float64\n",
      "dtypes: float64(1), int64(1), object(5)\n",
      "memory usage: 96.8+ KB\n"
     ]
    }
   ],
   "source": [
    "df_consolidado_eleitos.info()"
   ]
  },
  {
   "cell_type": "code",
   "execution_count": 92,
   "metadata": {},
   "outputs": [
    {
     "data": {
      "text/plain": [
       "count        23831\n",
       "mean        454483\n",
       "std        2797766\n",
       "min              0\n",
       "25%              0\n",
       "50%          34646\n",
       "75%         319267\n",
       "max      255665376\n",
       "Name: VR_BEM_CANDIDATO, dtype: int32"
      ]
     },
     "execution_count": 92,
     "metadata": {},
     "output_type": "execute_result"
    }
   ],
   "source": [
    "df_consolidado['VR_BEM_CANDIDATO'].describe().astype('int')"
   ]
  },
  {
   "cell_type": "code",
   "execution_count": 93,
   "metadata": {},
   "outputs": [
    {
     "data": {
      "text/plain": [
       "count         1548\n",
       "mean       1641964\n",
       "std        4531213\n",
       "min              0\n",
       "25%         285464\n",
       "50%         768632\n",
       "75%        1594491\n",
       "max      119810503\n",
       "Name: VR_BEM_CANDIDATO, dtype: int32"
      ]
     },
     "execution_count": 93,
     "metadata": {},
     "output_type": "execute_result"
    }
   ],
   "source": [
    "df_consolidado_eleitos['VR_BEM_CANDIDATO'].describe().astype('int')"
   ]
  },
  {
   "cell_type": "code",
   "execution_count": 94,
   "metadata": {},
   "outputs": [
    {
     "data": {
      "image/png": "[encoded data removed]",
      "text/plain": [
       "<Figure size 432x288 with 1 Axes>"
      ]
     },
     "metadata": {},
     "output_type": "display_data"
    }
   ],
   "source": [
    "df_consolidado.VR_BEM_CANDIDATO.hist(bins=100)\n",
    "plt.style.use('seaborn-pastel')\n",
    "plt.xlabel(\"Valor\")\n",
    "plt.ylabel(\"Número de candidatos\")\n",
    "plt.title(\"Total de bens dos candidatos\")\n",
    "plt.show()"
   ]
  },
  {
   "cell_type": "code",
   "execution_count": 95,
   "metadata": {},
   "outputs": [
    {
     "data": {
      "image/png": "[encoded data removed]",
      "text/plain": [
       "<Figure size 432x288 with 1 Axes>"
      ]
     },
     "metadata": {},
     "output_type": "display_data"
    }
   ],
   "source": [
    "df_consolidado_eleitos.VR_BEM_CANDIDATO.hist(bins=100)\n",
    "plt.style.use('ggplot')\n",
    "plt.xlabel(\"Valor\")\n",
    "plt.ylabel(\"Número de candidatos eleitos\")\n",
    "plt.title(\"Total de bens dos candidatos eleitos\")\n",
    "plt.show()"
   ]
  },
  {
   "cell_type": "code",
   "execution_count": 96,
   "metadata": {},
   "outputs": [],
   "source": [
    "df_consolidado_10mi = df_consolidado.loc[(df_consolidado['VR_BEM_CANDIDATO'] < 10000000)]"
   ]
  },
  {
   "cell_type": "code",
   "execution_count": 97,
   "metadata": {},
   "outputs": [],
   "source": [
    "df_consolidado_eleitos_10mi = df_consolidado_eleitos.loc[(df_consolidado_eleitos\n",
    "                                                          ['VR_BEM_CANDIDATO'] < 10000000)]"
   ]
  },
  {
   "cell_type": "code",
   "execution_count": 98,
   "metadata": {},
   "outputs": [
    {
     "data": {
      "image/png": "[encoded data removed]",
      "text/plain": [
       "<Figure size 432x288 with 1 Axes>"
      ]
     },
     "metadata": {},
     "output_type": "display_data"
    }
   ],
   "source": [
    "df_consolidado_10mi.VR_BEM_CANDIDATO.hist(bins=100)\n",
    "plt.style.use('seaborn-pastel')\n",
    "plt.xlabel(\"Valor\")\n",
    "plt.ylabel(\"Número de candidatos\")\n",
    "plt.title(\"Total de bens dos candidatos até 10 mi\")\n",
    "plt.show()"
   ]
  },
  {
   "cell_type": "code",
   "execution_count": 99,
   "metadata": {},
   "outputs": [
    {
     "data": {
      "image/png": "[encoded data removed]",
      "text/plain": [
       "<Figure size 432x288 with 1 Axes>"
      ]
     },
     "metadata": {},
     "output_type": "display_data"
    }
   ],
   "source": [
    "df_consolidado_eleitos_10mi.VR_BEM_CANDIDATO.hist(bins=100)\n",
    "plt.style.use('ggplot')\n",
    "plt.xlabel(\"Valor\")\n",
    "plt.ylabel(\"Número de candidatos eleitos\")\n",
    "plt.title(\"Total de bens dos candidatos eleitos até 10 mi\")\n",
    "plt.show()"
   ]
  },
  {
   "cell_type": "code",
   "execution_count": 100,
   "metadata": {},
   "outputs": [
    {
     "data": {
      "text/plain": [
       "count     1711062\n",
       "mean         1845\n",
       "std         21279\n",
       "min             0\n",
       "25%           200\n",
       "50%           500\n",
       "75%          1142\n",
       "max      13930000\n",
       "Name: VR_DESPESA_CONTRATADA, dtype: int32"
      ]
     },
     "execution_count": 100,
     "metadata": {},
     "output_type": "execute_result"
    }
   ],
   "source": [
    "df_despesas_contratadas['VR_DESPESA_CONTRATADA'].describe().astype('int')"
   ]
  },
  {
   "cell_type": "code",
   "execution_count": 101,
   "metadata": {},
   "outputs": [
    {
     "data": {
      "text/html": [
       "<div>\n",
       "<style scoped>\n",
       "    .dataframe tbody tr th:only-of-type {\n",
       "        vertical-align: middle;\n",
       "    }\n",
       "\n",
       "    .dataframe tbody tr th {\n",
       "        vertical-align: top;\n",
       "    }\n",
       "\n",
       "    .dataframe thead th {\n",
       "        text-align: right;\n",
       "    }\n",
       "</style>\n",
       "<table border=\"1\" class=\"dataframe\">\n",
       "  <thead>\n",
       "    <tr style=\"text-align: right;\">\n",
       "      <th></th>\n",
       "      <th>SQ_DESPESA</th>\n",
       "      <th>VR_PAGTO_DESPESA</th>\n",
       "    </tr>\n",
       "  </thead>\n",
       "  <tbody>\n",
       "    <tr>\n",
       "      <th>0</th>\n",
       "      <td>17599117</td>\n",
       "      <td>13.20</td>\n",
       "    </tr>\n",
       "    <tr>\n",
       "      <th>1</th>\n",
       "      <td>17609525</td>\n",
       "      <td>430.00</td>\n",
       "    </tr>\n",
       "    <tr>\n",
       "      <th>2</th>\n",
       "      <td>17885414</td>\n",
       "      <td>100.00</td>\n",
       "    </tr>\n",
       "    <tr>\n",
       "      <th>3</th>\n",
       "      <td>17885414</td>\n",
       "      <td>407.50</td>\n",
       "    </tr>\n",
       "    <tr>\n",
       "      <th>4</th>\n",
       "      <td>18136639</td>\n",
       "      <td>1258.81</td>\n",
       "    </tr>\n",
       "  </tbody>\n",
       "</table>\n",
       "</div>"
      ],
      "text/plain": [
       "   SQ_DESPESA  VR_PAGTO_DESPESA\n",
       "0    17599117             13.20\n",
       "1    17609525            430.00\n",
       "2    17885414            100.00\n",
       "3    17885414            407.50\n",
       "4    18136639           1258.81"
      ]
     },
     "execution_count": 101,
     "metadata": {},
     "output_type": "execute_result"
    }
   ],
   "source": [
    "df_despesas_pagas.head()"
   ]
  },
  {
   "cell_type": "code",
   "execution_count": 102,
   "metadata": {},
   "outputs": [],
   "source": [
    "df_despesas_pagas = df_despesas_pagas.groupby(['SQ_DESPESA']).sum()"
   ]
  },
  {
   "cell_type": "code",
   "execution_count": 103,
   "metadata": {},
   "outputs": [
    {
     "name": "stdout",
     "output_type": "stream",
     "text": [
      "<class 'pandas.core.frame.DataFrame'>\n",
      "Int64Index: 1396351 entries, 17564736 to 25469128\n",
      "Data columns (total 1 columns):\n",
      "VR_PAGTO_DESPESA    1396351 non-null float64\n",
      "dtypes: float64(1)\n",
      "memory usage: 21.3 MB\n"
     ]
    }
   ],
   "source": [
    "df_despesas_pagas.info()"
   ]
  },
  {
   "cell_type": "code",
   "execution_count": 104,
   "metadata": {},
   "outputs": [],
   "source": [
    "df_despesas_contratadas = df_despesas_contratadas.set_index('SQ_DESPESA')"
   ]
  },
  {
   "cell_type": "code",
   "execution_count": 105,
   "metadata": {},
   "outputs": [
    {
     "name": "stdout",
     "output_type": "stream",
     "text": [
      "<class 'pandas.core.frame.DataFrame'>\n",
      "Int64Index: 1711062 entries, 22337526 to 23779597\n",
      "Data columns (total 3 columns):\n",
      "SQ_CANDIDATO             int64\n",
      "DS_DESPESA               object\n",
      "VR_DESPESA_CONTRATADA    float64\n",
      "dtypes: float64(1), int64(1), object(1)\n",
      "memory usage: 52.2+ MB\n"
     ]
    }
   ],
   "source": [
    "df_despesas_contratadas.info()"
   ]
  },
  {
   "cell_type": "code",
   "execution_count": 106,
   "metadata": {},
   "outputs": [],
   "source": [
    "df_despesas = df_despesas_contratadas.join(df_despesas_pagas)"
   ]
  },
  {
   "cell_type": "code",
   "execution_count": 107,
   "metadata": {},
   "outputs": [
    {
     "name": "stdout",
     "output_type": "stream",
     "text": [
      "<class 'pandas.core.frame.DataFrame'>\n",
      "Int64Index: 1711062 entries, 17471857 to 25469131\n",
      "Data columns (total 4 columns):\n",
      "SQ_CANDIDATO             int64\n",
      "DS_DESPESA               object\n",
      "VR_DESPESA_CONTRATADA    float64\n",
      "VR_PAGTO_DESPESA         float64\n",
      "dtypes: float64(2), int64(1), object(1)\n",
      "memory usage: 65.3+ MB\n"
     ]
    }
   ],
   "source": [
    "df_despesas.info()"
   ]
  },
  {
   "cell_type": "code",
   "execution_count": 108,
   "metadata": {},
   "outputs": [
    {
     "data": {
      "text/plain": [
       "SQ_CANDIDATO                 0\n",
       "DS_DESPESA                   0\n",
       "VR_DESPESA_CONTRATADA        0\n",
       "VR_PAGTO_DESPESA         23484\n",
       "dtype: int64"
      ]
     },
     "execution_count": 108,
     "metadata": {},
     "output_type": "execute_result"
    }
   ],
   "source": [
    "df_despesas.isnull().sum()"
   ]
  },
  {
   "cell_type": "code",
   "execution_count": 109,
   "metadata": {},
   "outputs": [],
   "source": [
    "df_despesas.fillna(0, inplace = True)"
   ]
  },
  {
   "cell_type": "code",
   "execution_count": 110,
   "metadata": {},
   "outputs": [
    {
     "data": {
      "text/plain": [
       "SQ_CANDIDATO             0\n",
       "DS_DESPESA               0\n",
       "VR_DESPESA_CONTRATADA    0\n",
       "VR_PAGTO_DESPESA         0\n",
       "dtype: int64"
      ]
     },
     "execution_count": 110,
     "metadata": {},
     "output_type": "execute_result"
    }
   ],
   "source": [
    "df_despesas.isnull().sum()"
   ]
  },
  {
   "cell_type": "code",
   "execution_count": 111,
   "metadata": {},
   "outputs": [],
   "source": [
    "df_despesas = df_despesas.groupby(['SQ_CANDIDATO']).sum()"
   ]
  },
  {
   "cell_type": "code",
   "execution_count": 112,
   "metadata": {},
   "outputs": [
    {
     "name": "stdout",
     "output_type": "stream",
     "text": [
      "<class 'pandas.core.frame.DataFrame'>\n",
      "Int64Index: 19292 entries, 10000600001 to 280000629808\n",
      "Data columns (total 2 columns):\n",
      "VR_DESPESA_CONTRATADA    19292 non-null float64\n",
      "VR_PAGTO_DESPESA         19292 non-null float64\n",
      "dtypes: float64(2)\n",
      "memory usage: 452.2 KB\n"
     ]
    }
   ],
   "source": [
    "df_despesas.info()"
   ]
  },
  {
   "cell_type": "code",
   "execution_count": 113,
   "metadata": {},
   "outputs": [],
   "source": [
    "df_despesas = df_despesas[['VR_PAGTO_DESPESA']]"
   ]
  },
  {
   "cell_type": "code",
   "execution_count": 114,
   "metadata": {},
   "outputs": [
    {
     "name": "stdout",
     "output_type": "stream",
     "text": [
      "<class 'pandas.core.frame.DataFrame'>\n",
      "Int64Index: 19292 entries, 10000600001 to 280000629808\n",
      "Data columns (total 1 columns):\n",
      "VR_PAGTO_DESPESA    19292 non-null float64\n",
      "dtypes: float64(1)\n",
      "memory usage: 301.4 KB\n"
     ]
    }
   ],
   "source": [
    "df_despesas.info()"
   ]
  },
  {
   "cell_type": "code",
   "execution_count": 115,
   "metadata": {},
   "outputs": [],
   "source": [
    "df_deputados_final = df_consolidado.join(df_despesas)"
   ]
  },
  {
   "cell_type": "code",
   "execution_count": 116,
   "metadata": {},
   "outputs": [
    {
     "name": "stdout",
     "output_type": "stream",
     "text": [
      "<class 'pandas.core.frame.DataFrame'>\n",
      "Int64Index: 23831 entries, 260000607562 to 90000607680\n",
      "Data columns (total 8 columns):\n",
      "NR_IDADE_DATA_POSSE    23831 non-null int64\n",
      "DS_GENERO              23831 non-null object\n",
      "DS_GRAU_INSTRUCAO      23831 non-null object\n",
      "DS_ESTADO_CIVIL        23831 non-null object\n",
      "DS_COR_RACA            23831 non-null object\n",
      "DS_SIT_TOT_TURNO       23831 non-null object\n",
      "VR_BEM_CANDIDATO       23831 non-null float64\n",
      "VR_PAGTO_DESPESA       17405 non-null float64\n",
      "dtypes: float64(2), int64(1), object(5)\n",
      "memory usage: 2.3+ MB\n"
     ]
    }
   ],
   "source": [
    "df_deputados_final.info()"
   ]
  },
  {
   "cell_type": "code",
   "execution_count": 117,
   "metadata": {},
   "outputs": [
    {
     "data": {
      "text/plain": [
       "NR_IDADE_DATA_POSSE       0\n",
       "DS_GENERO                 0\n",
       "DS_GRAU_INSTRUCAO         0\n",
       "DS_ESTADO_CIVIL           0\n",
       "DS_COR_RACA               0\n",
       "DS_SIT_TOT_TURNO          0\n",
       "VR_BEM_CANDIDATO          0\n",
       "VR_PAGTO_DESPESA       6426\n",
       "dtype: int64"
      ]
     },
     "execution_count": 117,
     "metadata": {},
     "output_type": "execute_result"
    }
   ],
   "source": [
    "df_deputados_final.isnull().sum()"
   ]
  },
  {
   "cell_type": "code",
   "execution_count": 118,
   "metadata": {},
   "outputs": [],
   "source": [
    "df_deputados_final.fillna(0, inplace = True)"
   ]
  },
  {
   "cell_type": "code",
   "execution_count": 119,
   "metadata": {},
   "outputs": [
    {
     "data": {
      "text/plain": [
       "NR_IDADE_DATA_POSSE    0\n",
       "DS_GENERO              0\n",
       "DS_GRAU_INSTRUCAO      0\n",
       "DS_ESTADO_CIVIL        0\n",
       "DS_COR_RACA            0\n",
       "DS_SIT_TOT_TURNO       0\n",
       "VR_BEM_CANDIDATO       0\n",
       "VR_PAGTO_DESPESA       0\n",
       "dtype: int64"
      ]
     },
     "execution_count": 119,
     "metadata": {},
     "output_type": "execute_result"
    }
   ],
   "source": [
    "df_deputados_final.isnull().sum()"
   ]
  },
  {
   "cell_type": "code",
   "execution_count": 120,
   "metadata": {},
   "outputs": [],
   "source": [
    "df_deputados_final_eleitos = df_deputados_final[df_deputados_final.DS_SIT_TOT_TURNO.isin([\n",
    "    'ELEITO POR MÉDIA', 'ELEITO POR QP'])]"
   ]
  },
  {
   "cell_type": "code",
   "execution_count": 121,
   "metadata": {},
   "outputs": [
    {
     "name": "stdout",
     "output_type": "stream",
     "text": [
      "<class 'pandas.core.frame.DataFrame'>\n",
      "Int64Index: 1548 entries, 240000600256 to 170000616969\n",
      "Data columns (total 8 columns):\n",
      "NR_IDADE_DATA_POSSE    1548 non-null int64\n",
      "DS_GENERO              1548 non-null object\n",
      "DS_GRAU_INSTRUCAO      1548 non-null object\n",
      "DS_ESTADO_CIVIL        1548 non-null object\n",
      "DS_COR_RACA            1548 non-null object\n",
      "DS_SIT_TOT_TURNO       1548 non-null object\n",
      "VR_BEM_CANDIDATO       1548 non-null float64\n",
      "VR_PAGTO_DESPESA       1548 non-null float64\n",
      "dtypes: float64(2), int64(1), object(5)\n",
      "memory usage: 108.8+ KB\n"
     ]
    }
   ],
   "source": [
    "df_deputados_final_eleitos.info()"
   ]
  },
  {
   "cell_type": "code",
   "execution_count": 122,
   "metadata": {},
   "outputs": [
    {
     "data": {
      "text/plain": [
       "count       23831\n",
       "mean       200365\n",
       "std        835661\n",
       "min             0\n",
       "25%             0\n",
       "50%          6864\n",
       "75%         60945\n",
       "max      37761372\n",
       "Name: VR_PAGTO_DESPESA, dtype: int32"
      ]
     },
     "execution_count": 122,
     "metadata": {},
     "output_type": "execute_result"
    }
   ],
   "source": [
    "df_deputados_final['VR_PAGTO_DESPESA'].describe().astype('int')"
   ]
  },
  {
   "cell_type": "code",
   "execution_count": 123,
   "metadata": {},
   "outputs": [
    {
     "data": {
      "text/plain": [
       "count        1548\n",
       "mean      1453396\n",
       "std       2124193\n",
       "min             0\n",
       "25%        323115\n",
       "50%        755139\n",
       "75%       1774531\n",
       "max      37761372\n",
       "Name: VR_PAGTO_DESPESA, dtype: int32"
      ]
     },
     "execution_count": 123,
     "metadata": {},
     "output_type": "execute_result"
    }
   ],
   "source": [
    "df_deputados_final_eleitos['VR_PAGTO_DESPESA'].describe().astype('int')"
   ]
  },
  {
   "cell_type": "code",
   "execution_count": 124,
   "metadata": {},
   "outputs": [
    {
     "data": {
      "image/png": "[encoded data removed]",
      "text/plain": [
       "<Figure size 432x288 with 1 Axes>"
      ]
     },
     "metadata": {},
     "output_type": "display_data"
    }
   ],
   "source": [
    "df_deputados_final.VR_PAGTO_DESPESA.hist(bins=100)\n",
    "plt.style.use('seaborn-pastel')\n",
    "plt.xlabel(\"Valor\")\n",
    "plt.ylabel(\"Número de candidatos\")\n",
    "plt.title(\"Total de despesas dos candidatos\")\n",
    "plt.show()"
   ]
  },
  {
   "cell_type": "code",
   "execution_count": 125,
   "metadata": {},
   "outputs": [
    {
     "data": {
      "image/png": "[encoded data removed]",
      "text/plain": [
       "<Figure size 432x288 with 1 Axes>"
      ]
     },
     "metadata": {},
     "output_type": "display_data"
    }
   ],
   "source": [
    "df_deputados_final_eleitos.VR_PAGTO_DESPESA.hist(bins=100)\n",
    "plt.style.use('ggplot')\n",
    "plt.xlabel(\"Valor\")\n",
    "plt.ylabel(\"Número de candidatos eleitos\")\n",
    "plt.title(\"Total de despesas dos candidatos eleitos\")\n",
    "plt.show()"
   ]
  },
  {
   "cell_type": "code",
   "execution_count": 126,
   "metadata": {},
   "outputs": [
    {
     "data": {
      "text/html": [
       "<div>\n",
       "<style scoped>\n",
       "    .dataframe tbody tr th:only-of-type {\n",
       "        vertical-align: middle;\n",
       "    }\n",
       "\n",
       "    .dataframe tbody tr th {\n",
       "        vertical-align: top;\n",
       "    }\n",
       "\n",
       "    .dataframe thead th {\n",
       "        text-align: right;\n",
       "    }\n",
       "</style>\n",
       "<table border=\"1\" class=\"dataframe\">\n",
       "  <thead>\n",
       "    <tr style=\"text-align: right;\">\n",
       "      <th></th>\n",
       "      <th>NR_IDADE_DATA_POSSE</th>\n",
       "      <th>DS_GENERO</th>\n",
       "      <th>DS_GRAU_INSTRUCAO</th>\n",
       "      <th>DS_ESTADO_CIVIL</th>\n",
       "      <th>DS_COR_RACA</th>\n",
       "      <th>DS_SIT_TOT_TURNO</th>\n",
       "      <th>VR_BEM_CANDIDATO</th>\n",
       "      <th>VR_PAGTO_DESPESA</th>\n",
       "    </tr>\n",
       "    <tr>\n",
       "      <th>SQ_CANDIDATO</th>\n",
       "      <th></th>\n",
       "      <th></th>\n",
       "      <th></th>\n",
       "      <th></th>\n",
       "      <th></th>\n",
       "      <th></th>\n",
       "      <th></th>\n",
       "      <th></th>\n",
       "    </tr>\n",
       "  </thead>\n",
       "  <tbody>\n",
       "    <tr>\n",
       "      <th>260000607562</th>\n",
       "      <td>45</td>\n",
       "      <td>MASCULINO</td>\n",
       "      <td>ENSINO MÉDIO COMPLETO</td>\n",
       "      <td>CASADO(A)</td>\n",
       "      <td>BRANCA</td>\n",
       "      <td>SUPLENTE</td>\n",
       "      <td>0.0</td>\n",
       "      <td>0.00</td>\n",
       "    </tr>\n",
       "    <tr>\n",
       "      <th>20000621942</th>\n",
       "      <td>64</td>\n",
       "      <td>MASCULINO</td>\n",
       "      <td>SUPERIOR COMPLETO</td>\n",
       "      <td>CASADO(A)</td>\n",
       "      <td>BRANCA</td>\n",
       "      <td>SUPLENTE</td>\n",
       "      <td>346392.0</td>\n",
       "      <td>1708478.24</td>\n",
       "    </tr>\n",
       "    <tr>\n",
       "      <th>100000625950</th>\n",
       "      <td>58</td>\n",
       "      <td>MASCULINO</td>\n",
       "      <td>ENSINO MÉDIO COMPLETO</td>\n",
       "      <td>CASADO(A)</td>\n",
       "      <td>BRANCA</td>\n",
       "      <td>SUPLENTE</td>\n",
       "      <td>0.0</td>\n",
       "      <td>0.00</td>\n",
       "    </tr>\n",
       "    <tr>\n",
       "      <th>210000611982</th>\n",
       "      <td>39</td>\n",
       "      <td>MASCULINO</td>\n",
       "      <td>SUPERIOR COMPLETO</td>\n",
       "      <td>CASADO(A)</td>\n",
       "      <td>BRANCA</td>\n",
       "      <td>SUPLENTE</td>\n",
       "      <td>20000.0</td>\n",
       "      <td>42617.70</td>\n",
       "    </tr>\n",
       "    <tr>\n",
       "      <th>160000624259</th>\n",
       "      <td>26</td>\n",
       "      <td>MASCULINO</td>\n",
       "      <td>SUPERIOR INCOMPLETO</td>\n",
       "      <td>SOLTEIRO(A)</td>\n",
       "      <td>PRETA</td>\n",
       "      <td>SUPLENTE</td>\n",
       "      <td>8000.0</td>\n",
       "      <td>0.00</td>\n",
       "    </tr>\n",
       "  </tbody>\n",
       "</table>\n",
       "</div>"
      ],
      "text/plain": [
       "              NR_IDADE_DATA_POSSE  DS_GENERO      DS_GRAU_INSTRUCAO  \\\n",
       "SQ_CANDIDATO                                                          \n",
       "260000607562                   45  MASCULINO  ENSINO MÉDIO COMPLETO   \n",
       "20000621942                    64  MASCULINO      SUPERIOR COMPLETO   \n",
       "100000625950                   58  MASCULINO  ENSINO MÉDIO COMPLETO   \n",
       "210000611982                   39  MASCULINO      SUPERIOR COMPLETO   \n",
       "160000624259                   26  MASCULINO    SUPERIOR INCOMPLETO   \n",
       "\n",
       "             DS_ESTADO_CIVIL DS_COR_RACA DS_SIT_TOT_TURNO  VR_BEM_CANDIDATO  \\\n",
       "SQ_CANDIDATO                                                                  \n",
       "260000607562       CASADO(A)      BRANCA         SUPLENTE               0.0   \n",
       "20000621942        CASADO(A)      BRANCA         SUPLENTE          346392.0   \n",
       "100000625950       CASADO(A)      BRANCA         SUPLENTE               0.0   \n",
       "210000611982       CASADO(A)      BRANCA         SUPLENTE           20000.0   \n",
       "160000624259     SOLTEIRO(A)       PRETA         SUPLENTE            8000.0   \n",
       "\n",
       "              VR_PAGTO_DESPESA  \n",
       "SQ_CANDIDATO                    \n",
       "260000607562              0.00  \n",
       "20000621942         1708478.24  \n",
       "100000625950              0.00  \n",
       "210000611982          42617.70  \n",
       "160000624259              0.00  "
      ]
     },
     "execution_count": 126,
     "metadata": {},
     "output_type": "execute_result"
    }
   ],
   "source": [
    "df_deputados_final.head()"
   ]
  },
  {
   "cell_type": "code",
   "execution_count": 127,
   "metadata": {},
   "outputs": [
    {
     "data": {
      "text/plain": [
       "array(['MASCULINO', 'FEMININO'], dtype=object)"
      ]
     },
     "execution_count": 127,
     "metadata": {},
     "output_type": "execute_result"
    }
   ],
   "source": [
    "df_deputados_final['DS_GENERO'].unique()"
   ]
  },
  {
   "cell_type": "code",
   "execution_count": 128,
   "metadata": {},
   "outputs": [
    {
     "data": {
      "text/plain": [
       "array(['ENSINO MÉDIO COMPLETO', 'SUPERIOR COMPLETO',\n",
       "       'SUPERIOR INCOMPLETO', 'ENSINO FUNDAMENTAL COMPLETO',\n",
       "       'ENSINO FUNDAMENTAL INCOMPLETO', 'ENSINO MÉDIO INCOMPLETO',\n",
       "       'LÊ E ESCREVE'], dtype=object)"
      ]
     },
     "execution_count": 128,
     "metadata": {},
     "output_type": "execute_result"
    }
   ],
   "source": [
    "df_deputados_final['DS_GRAU_INSTRUCAO'].unique()"
   ]
  },
  {
   "cell_type": "code",
   "execution_count": 129,
   "metadata": {},
   "outputs": [
    {
     "data": {
      "text/plain": [
       "array(['CASADO(A)', 'SOLTEIRO(A)', 'SEPARADO(A) JUDICIALMENTE',\n",
       "       'DIVORCIADO(A)', 'VIÚVO(A)'], dtype=object)"
      ]
     },
     "execution_count": 129,
     "metadata": {},
     "output_type": "execute_result"
    }
   ],
   "source": [
    "df_deputados_final['DS_ESTADO_CIVIL'].unique()"
   ]
  },
  {
   "cell_type": "code",
   "execution_count": 130,
   "metadata": {},
   "outputs": [
    {
     "data": {
      "text/plain": [
       "array(['BRANCA', 'PRETA', 'PARDA', 'AMARELA', 'INDÍGENA'], dtype=object)"
      ]
     },
     "execution_count": 130,
     "metadata": {},
     "output_type": "execute_result"
    }
   ],
   "source": [
    "df_deputados_final['DS_COR_RACA'].unique()"
   ]
  },
  {
   "cell_type": "code",
   "execution_count": 131,
   "metadata": {},
   "outputs": [
    {
     "data": {
      "text/plain": [
       "array(['SUPLENTE', 'NÃO ELEITO', 'ELEITO POR MÉDIA', 'ELEITO POR QP'],\n",
       "      dtype=object)"
      ]
     },
     "execution_count": 131,
     "metadata": {},
     "output_type": "execute_result"
    }
   ],
   "source": [
    "df_deputados_final['DS_SIT_TOT_TURNO'].unique()"
   ]
  },
  {
   "cell_type": "code",
   "execution_count": 132,
   "metadata": {},
   "outputs": [],
   "source": [
    "ajuste_ensino = {'LÊ E ESCREVE': 1,  'ENSINO FUNDAMENTAL INCOMPLETO': 2,  \n",
    "                 'ENSINO FUNDAMENTAL COMPLETO': 3,  'ENSINO MÉDIO INCOMPLETO': 4,  \n",
    "                 'ENSINO MÉDIO COMPLETO': 5,  'SUPERIOR INCOMPLETO': 6,  'SUPERIOR COMPLETO': 7}\n",
    "df_deputados_final['DS_GRAU_INSTRUCAO'] = df_deputados_final['DS_GRAU_INSTRUCAO'].map(ajuste_ensino)"
   ]
  },
  {
   "cell_type": "code",
   "execution_count": 133,
   "metadata": {},
   "outputs": [
    {
     "data": {
      "text/plain": [
       "array([5, 7, 6, 3, 2, 4, 1], dtype=int64)"
      ]
     },
     "execution_count": 133,
     "metadata": {},
     "output_type": "execute_result"
    }
   ],
   "source": [
    "df_deputados_final['DS_GRAU_INSTRUCAO'].unique()"
   ]
  },
  {
   "cell_type": "code",
   "execution_count": 134,
   "metadata": {},
   "outputs": [],
   "source": [
    "ajuste_eleito = {'ELEITO POR QP': 1, 'SUPLENTE': 0, 'NÃO ELEITO': 0, 'ELEITO POR MÉDIA': 1}\n",
    "df_deputados_final['DS_SIT_TOT_TURNO'] = df_deputados_final['DS_SIT_TOT_TURNO'].map(ajuste_eleito)"
   ]
  },
  {
   "cell_type": "code",
   "execution_count": 135,
   "metadata": {},
   "outputs": [
    {
     "data": {
      "text/plain": [
       "array([0, 1], dtype=int64)"
      ]
     },
     "execution_count": 135,
     "metadata": {},
     "output_type": "execute_result"
    }
   ],
   "source": [
    "df_deputados_final['DS_SIT_TOT_TURNO'].unique()"
   ]
  },
  {
   "cell_type": "code",
   "execution_count": 136,
   "metadata": {},
   "outputs": [],
   "source": [
    "df_deputados_final = pd.get_dummies(df_deputados_final[['NR_IDADE_DATA_POSSE', \n",
    "                                                        'DS_GENERO', 'DS_GRAU_INSTRUCAO', \n",
    "                                                        'DS_ESTADO_CIVIL', 'DS_COR_RACA', \n",
    "                                                        'DS_SIT_TOT_TURNO','VR_BEM_CANDIDATO', \n",
    "                                                        'VR_PAGTO_DESPESA' ]])"
   ]
  },
  {
   "cell_type": "code",
   "execution_count": 137,
   "metadata": {},
   "outputs": [
    {
     "name": "stdout",
     "output_type": "stream",
     "text": [
      "<class 'pandas.core.frame.DataFrame'>\n",
      "Int64Index: 23831 entries, 260000607562 to 90000607680\n",
      "Data columns (total 17 columns):\n",
      "NR_IDADE_DATA_POSSE                          23831 non-null int64\n",
      "DS_GRAU_INSTRUCAO                            23831 non-null int64\n",
      "DS_SIT_TOT_TURNO                             23831 non-null int64\n",
      "VR_BEM_CANDIDATO                             23831 non-null float64\n",
      "VR_PAGTO_DESPESA                             23831 non-null float64\n",
      "DS_GENERO_FEMININO                           23831 non-null uint8\n",
      "DS_GENERO_MASCULINO                          23831 non-null uint8\n",
      "DS_ESTADO_CIVIL_CASADO(A)                    23831 non-null uint8\n",
      "DS_ESTADO_CIVIL_DIVORCIADO(A)                23831 non-null uint8\n",
      "DS_ESTADO_CIVIL_SEPARADO(A) JUDICIALMENTE    23831 non-null uint8\n",
      "DS_ESTADO_CIVIL_SOLTEIRO(A)                  23831 non-null uint8\n",
      "DS_ESTADO_CIVIL_VIÚVO(A)                     23831 non-null uint8\n",
      "DS_COR_RACA_AMARELA                          23831 non-null uint8\n",
      "DS_COR_RACA_BRANCA                           23831 non-null uint8\n",
      "DS_COR_RACA_INDÍGENA                         23831 non-null uint8\n",
      "DS_COR_RACA_PARDA                            23831 non-null uint8\n",
      "DS_COR_RACA_PRETA                            23831 non-null uint8\n",
      "dtypes: float64(2), int64(3), uint8(12)\n",
      "memory usage: 2.0 MB\n"
     ]
    }
   ],
   "source": [
    "df_deputados_final.info()"
   ]
  },
  {
   "cell_type": "code",
   "execution_count": 138,
   "metadata": {},
   "outputs": [
    {
     "data": {
      "text/html": [
       "<div>\n",
       "<style scoped>\n",
       "    .dataframe tbody tr th:only-of-type {\n",
       "        vertical-align: middle;\n",
       "    }\n",
       "\n",
       "    .dataframe tbody tr th {\n",
       "        vertical-align: top;\n",
       "    }\n",
       "\n",
       "    .dataframe thead th {\n",
       "        text-align: right;\n",
       "    }\n",
       "</style>\n",
       "<table border=\"1\" class=\"dataframe\">\n",
       "  <thead>\n",
       "    <tr style=\"text-align: right;\">\n",
       "      <th></th>\n",
       "      <th>NR_IDADE_DATA_POSSE</th>\n",
       "      <th>DS_GRAU_INSTRUCAO</th>\n",
       "      <th>DS_SIT_TOT_TURNO</th>\n",
       "      <th>VR_BEM_CANDIDATO</th>\n",
       "      <th>VR_PAGTO_DESPESA</th>\n",
       "      <th>DS_GENERO_FEMININO</th>\n",
       "      <th>DS_GENERO_MASCULINO</th>\n",
       "      <th>DS_ESTADO_CIVIL_CASADO(A)</th>\n",
       "      <th>DS_ESTADO_CIVIL_DIVORCIADO(A)</th>\n",
       "      <th>DS_ESTADO_CIVIL_SEPARADO(A) JUDICIALMENTE</th>\n",
       "      <th>DS_ESTADO_CIVIL_SOLTEIRO(A)</th>\n",
       "      <th>DS_ESTADO_CIVIL_VIÚVO(A)</th>\n",
       "      <th>DS_COR_RACA_AMARELA</th>\n",
       "      <th>DS_COR_RACA_BRANCA</th>\n",
       "      <th>DS_COR_RACA_INDÍGENA</th>\n",
       "      <th>DS_COR_RACA_PARDA</th>\n",
       "      <th>DS_COR_RACA_PRETA</th>\n",
       "    </tr>\n",
       "    <tr>\n",
       "      <th>SQ_CANDIDATO</th>\n",
       "      <th></th>\n",
       "      <th></th>\n",
       "      <th></th>\n",
       "      <th></th>\n",
       "      <th></th>\n",
       "      <th></th>\n",
       "      <th></th>\n",
       "      <th></th>\n",
       "      <th></th>\n",
       "      <th></th>\n",
       "      <th></th>\n",
       "      <th></th>\n",
       "      <th></th>\n",
       "      <th></th>\n",
       "      <th></th>\n",
       "      <th></th>\n",
       "      <th></th>\n",
       "    </tr>\n",
       "  </thead>\n",
       "  <tbody>\n",
       "    <tr>\n",
       "      <th>260000607562</th>\n",
       "      <td>45</td>\n",
       "      <td>5</td>\n",
       "      <td>0</td>\n",
       "      <td>0.0</td>\n",
       "      <td>0.00</td>\n",
       "      <td>0</td>\n",
       "      <td>1</td>\n",
       "      <td>1</td>\n",
       "      <td>0</td>\n",
       "      <td>0</td>\n",
       "      <td>0</td>\n",
       "      <td>0</td>\n",
       "      <td>0</td>\n",
       "      <td>1</td>\n",
       "      <td>0</td>\n",
       "      <td>0</td>\n",
       "      <td>0</td>\n",
       "    </tr>\n",
       "    <tr>\n",
       "      <th>20000621942</th>\n",
       "      <td>64</td>\n",
       "      <td>7</td>\n",
       "      <td>0</td>\n",
       "      <td>346392.0</td>\n",
       "      <td>1708478.24</td>\n",
       "      <td>0</td>\n",
       "      <td>1</td>\n",
       "      <td>1</td>\n",
       "      <td>0</td>\n",
       "      <td>0</td>\n",
       "      <td>0</td>\n",
       "      <td>0</td>\n",
       "      <td>0</td>\n",
       "      <td>1</td>\n",
       "      <td>0</td>\n",
       "      <td>0</td>\n",
       "      <td>0</td>\n",
       "    </tr>\n",
       "    <tr>\n",
       "      <th>100000625950</th>\n",
       "      <td>58</td>\n",
       "      <td>5</td>\n",
       "      <td>0</td>\n",
       "      <td>0.0</td>\n",
       "      <td>0.00</td>\n",
       "      <td>0</td>\n",
       "      <td>1</td>\n",
       "      <td>1</td>\n",
       "      <td>0</td>\n",
       "      <td>0</td>\n",
       "      <td>0</td>\n",
       "      <td>0</td>\n",
       "      <td>0</td>\n",
       "      <td>1</td>\n",
       "      <td>0</td>\n",
       "      <td>0</td>\n",
       "      <td>0</td>\n",
       "    </tr>\n",
       "    <tr>\n",
       "      <th>210000611982</th>\n",
       "      <td>39</td>\n",
       "      <td>7</td>\n",
       "      <td>0</td>\n",
       "      <td>20000.0</td>\n",
       "      <td>42617.70</td>\n",
       "      <td>0</td>\n",
       "      <td>1</td>\n",
       "      <td>1</td>\n",
       "      <td>0</td>\n",
       "      <td>0</td>\n",
       "      <td>0</td>\n",
       "      <td>0</td>\n",
       "      <td>0</td>\n",
       "      <td>1</td>\n",
       "      <td>0</td>\n",
       "      <td>0</td>\n",
       "      <td>0</td>\n",
       "    </tr>\n",
       "    <tr>\n",
       "      <th>160000624259</th>\n",
       "      <td>26</td>\n",
       "      <td>6</td>\n",
       "      <td>0</td>\n",
       "      <td>8000.0</td>\n",
       "      <td>0.00</td>\n",
       "      <td>0</td>\n",
       "      <td>1</td>\n",
       "      <td>0</td>\n",
       "      <td>0</td>\n",
       "      <td>0</td>\n",
       "      <td>1</td>\n",
       "      <td>0</td>\n",
       "      <td>0</td>\n",
       "      <td>0</td>\n",
       "      <td>0</td>\n",
       "      <td>0</td>\n",
       "      <td>1</td>\n",
       "    </tr>\n",
       "  </tbody>\n",
       "</table>\n",
       "</div>"
      ],
      "text/plain": [
       "              NR_IDADE_DATA_POSSE  DS_GRAU_INSTRUCAO  DS_SIT_TOT_TURNO  \\\n",
       "SQ_CANDIDATO                                                             \n",
       "260000607562                   45                  5                 0   \n",
       "20000621942                    64                  7                 0   \n",
       "100000625950                   58                  5                 0   \n",
       "210000611982                   39                  7                 0   \n",
       "160000624259                   26                  6                 0   \n",
       "\n",
       "              VR_BEM_CANDIDATO  VR_PAGTO_DESPESA  DS_GENERO_FEMININO  \\\n",
       "SQ_CANDIDATO                                                           \n",
       "260000607562               0.0              0.00                   0   \n",
       "20000621942           346392.0        1708478.24                   0   \n",
       "100000625950               0.0              0.00                   0   \n",
       "210000611982           20000.0          42617.70                   0   \n",
       "160000624259            8000.0              0.00                   0   \n",
       "\n",
       "              DS_GENERO_MASCULINO  DS_ESTADO_CIVIL_CASADO(A)  \\\n",
       "SQ_CANDIDATO                                                   \n",
       "260000607562                    1                          1   \n",
       "20000621942                     1                          1   \n",
       "100000625950                    1                          1   \n",
       "210000611982                    1                          1   \n",
       "160000624259                    1                          0   \n",
       "\n",
       "              DS_ESTADO_CIVIL_DIVORCIADO(A)  \\\n",
       "SQ_CANDIDATO                                  \n",
       "260000607562                              0   \n",
       "20000621942                               0   \n",
       "100000625950                              0   \n",
       "210000611982                              0   \n",
       "160000624259                              0   \n",
       "\n",
       "              DS_ESTADO_CIVIL_SEPARADO(A) JUDICIALMENTE  \\\n",
       "SQ_CANDIDATO                                              \n",
       "260000607562                                          0   \n",
       "20000621942                                           0   \n",
       "100000625950                                          0   \n",
       "210000611982                                          0   \n",
       "160000624259                                          0   \n",
       "\n",
       "              DS_ESTADO_CIVIL_SOLTEIRO(A)  DS_ESTADO_CIVIL_VIÚVO(A)  \\\n",
       "SQ_CANDIDATO                                                          \n",
       "260000607562                            0                         0   \n",
       "20000621942                             0                         0   \n",
       "100000625950                            0                         0   \n",
       "210000611982                            0                         0   \n",
       "160000624259                            1                         0   \n",
       "\n",
       "              DS_COR_RACA_AMARELA  DS_COR_RACA_BRANCA  DS_COR_RACA_INDÍGENA  \\\n",
       "SQ_CANDIDATO                                                                  \n",
       "260000607562                    0                   1                     0   \n",
       "20000621942                     0                   1                     0   \n",
       "100000625950                    0                   1                     0   \n",
       "210000611982                    0                   1                     0   \n",
       "160000624259                    0                   0                     0   \n",
       "\n",
       "              DS_COR_RACA_PARDA  DS_COR_RACA_PRETA  \n",
       "SQ_CANDIDATO                                        \n",
       "260000607562                  0                  0  \n",
       "20000621942                   0                  0  \n",
       "100000625950                  0                  0  \n",
       "210000611982                  0                  0  \n",
       "160000624259                  0                  1  "
      ]
     },
     "execution_count": 138,
     "metadata": {},
     "output_type": "execute_result"
    }
   ],
   "source": [
    "df_deputados_final.head()"
   ]
  },
  {
   "cell_type": "code",
   "execution_count": 139,
   "metadata": {},
   "outputs": [
    {
     "data": {
      "text/plain": [
       "array([0, 1], dtype=uint64)"
      ]
     },
     "execution_count": 139,
     "metadata": {},
     "output_type": "execute_result"
    }
   ],
   "source": [
    "df_deputados_final['DS_GENERO_FEMININO'].unique()"
   ]
  },
  {
   "cell_type": "code",
   "execution_count": 140,
   "metadata": {},
   "outputs": [
    {
     "data": {
      "text/plain": [
       "0    22283\n",
       "1     1548\n",
       "Name: DS_SIT_TOT_TURNO, dtype: int64"
      ]
     },
     "execution_count": 140,
     "metadata": {},
     "output_type": "execute_result"
    }
   ],
   "source": [
    "df_deputados_final['DS_SIT_TOT_TURNO'].value_counts()"
   ]
  },
  {
   "cell_type": "code",
   "execution_count": 141,
   "metadata": {},
   "outputs": [],
   "source": [
    "from sklearn.utils import resample"
   ]
  },
  {
   "cell_type": "code",
   "execution_count": 142,
   "metadata": {},
   "outputs": [
    {
     "name": "stdout",
     "output_type": "stream",
     "text": [
      "<class 'pandas.core.frame.DataFrame'>\n",
      "Int64Index: 22283 entries, 260000607562 to 90000607680\n",
      "Data columns (total 17 columns):\n",
      "NR_IDADE_DATA_POSSE                          22283 non-null int64\n",
      "DS_GRAU_INSTRUCAO                            22283 non-null int64\n",
      "DS_SIT_TOT_TURNO                             22283 non-null int64\n",
      "VR_BEM_CANDIDATO                             22283 non-null float64\n",
      "VR_PAGTO_DESPESA                             22283 non-null float64\n",
      "DS_GENERO_FEMININO                           22283 non-null uint8\n",
      "DS_GENERO_MASCULINO                          22283 non-null uint8\n",
      "DS_ESTADO_CIVIL_CASADO(A)                    22283 non-null uint8\n",
      "DS_ESTADO_CIVIL_DIVORCIADO(A)                22283 non-null uint8\n",
      "DS_ESTADO_CIVIL_SEPARADO(A) JUDICIALMENTE    22283 non-null uint8\n",
      "DS_ESTADO_CIVIL_SOLTEIRO(A)                  22283 non-null uint8\n",
      "DS_ESTADO_CIVIL_VIÚVO(A)                     22283 non-null uint8\n",
      "DS_COR_RACA_AMARELA                          22283 non-null uint8\n",
      "DS_COR_RACA_BRANCA                           22283 non-null uint8\n",
      "DS_COR_RACA_INDÍGENA                         22283 non-null uint8\n",
      "DS_COR_RACA_PARDA                            22283 non-null uint8\n",
      "DS_COR_RACA_PRETA                            22283 non-null uint8\n",
      "dtypes: float64(2), int64(3), uint8(12)\n",
      "memory usage: 1.3 MB\n"
     ]
    }
   ],
   "source": [
    "df_deputados_final_majority = df_deputados_final[df_deputados_final.DS_SIT_TOT_TURNO==0]\n",
    "df_deputados_final_majority.info()"
   ]
  },
  {
   "cell_type": "code",
   "execution_count": 143,
   "metadata": {},
   "outputs": [
    {
     "name": "stdout",
     "output_type": "stream",
     "text": [
      "<class 'pandas.core.frame.DataFrame'>\n",
      "Int64Index: 1548 entries, 240000600256 to 170000616969\n",
      "Data columns (total 17 columns):\n",
      "NR_IDADE_DATA_POSSE                          1548 non-null int64\n",
      "DS_GRAU_INSTRUCAO                            1548 non-null int64\n",
      "DS_SIT_TOT_TURNO                             1548 non-null int64\n",
      "VR_BEM_CANDIDATO                             1548 non-null float64\n",
      "VR_PAGTO_DESPESA                             1548 non-null float64\n",
      "DS_GENERO_FEMININO                           1548 non-null uint8\n",
      "DS_GENERO_MASCULINO                          1548 non-null uint8\n",
      "DS_ESTADO_CIVIL_CASADO(A)                    1548 non-null uint8\n",
      "DS_ESTADO_CIVIL_DIVORCIADO(A)                1548 non-null uint8\n",
      "DS_ESTADO_CIVIL_SEPARADO(A) JUDICIALMENTE    1548 non-null uint8\n",
      "DS_ESTADO_CIVIL_SOLTEIRO(A)                  1548 non-null uint8\n",
      "DS_ESTADO_CIVIL_VIÚVO(A)                     1548 non-null uint8\n",
      "DS_COR_RACA_AMARELA                          1548 non-null uint8\n",
      "DS_COR_RACA_BRANCA                           1548 non-null uint8\n",
      "DS_COR_RACA_INDÍGENA                         1548 non-null uint8\n",
      "DS_COR_RACA_PARDA                            1548 non-null uint8\n",
      "DS_COR_RACA_PRETA                            1548 non-null uint8\n",
      "dtypes: float64(2), int64(3), uint8(12)\n",
      "memory usage: 90.7 KB\n"
     ]
    }
   ],
   "source": [
    "df_deputados_final_minority = df_deputados_final[df_deputados_final.DS_SIT_TOT_TURNO==1]\n",
    "df_deputados_final_minority.info()"
   ]
  },
  {
   "cell_type": "code",
   "execution_count": 144,
   "metadata": {},
   "outputs": [],
   "source": [
    "df_deputados_final_minority_upsampled = resample(df_deputados_final_minority, \n",
    "                                                 replace=True, n_samples=22283, \n",
    "                                                 random_state=123)"
   ]
  },
  {
   "cell_type": "code",
   "execution_count": 145,
   "metadata": {},
   "outputs": [
    {
     "name": "stdout",
     "output_type": "stream",
     "text": [
      "<class 'pandas.core.frame.DataFrame'>\n",
      "Int64Index: 22283 entries, 50000608012 to 250000615370\n",
      "Data columns (total 17 columns):\n",
      "NR_IDADE_DATA_POSSE                          22283 non-null int64\n",
      "DS_GRAU_INSTRUCAO                            22283 non-null int64\n",
      "DS_SIT_TOT_TURNO                             22283 non-null int64\n",
      "VR_BEM_CANDIDATO                             22283 non-null float64\n",
      "VR_PAGTO_DESPESA                             22283 non-null float64\n",
      "DS_GENERO_FEMININO                           22283 non-null uint8\n",
      "DS_GENERO_MASCULINO                          22283 non-null uint8\n",
      "DS_ESTADO_CIVIL_CASADO(A)                    22283 non-null uint8\n",
      "DS_ESTADO_CIVIL_DIVORCIADO(A)                22283 non-null uint8\n",
      "DS_ESTADO_CIVIL_SEPARADO(A) JUDICIALMENTE    22283 non-null uint8\n",
      "DS_ESTADO_CIVIL_SOLTEIRO(A)                  22283 non-null uint8\n",
      "DS_ESTADO_CIVIL_VIÚVO(A)                     22283 non-null uint8\n",
      "DS_COR_RACA_AMARELA                          22283 non-null uint8\n",
      "DS_COR_RACA_BRANCA                           22283 non-null uint8\n",
      "DS_COR_RACA_INDÍGENA                         22283 non-null uint8\n",
      "DS_COR_RACA_PARDA                            22283 non-null uint8\n",
      "DS_COR_RACA_PRETA                            22283 non-null uint8\n",
      "dtypes: float64(2), int64(3), uint8(12)\n",
      "memory usage: 1.3 MB\n"
     ]
    }
   ],
   "source": [
    "df_deputados_final_minority_upsampled.info()"
   ]
  },
  {
   "cell_type": "code",
   "execution_count": 146,
   "metadata": {},
   "outputs": [],
   "source": [
    "df_deputados_final_upsampled = pd.concat([df_deputados_final_majority, \n",
    "                                          df_deputados_final_minority_upsampled])"
   ]
  },
  {
   "cell_type": "code",
   "execution_count": 147,
   "metadata": {},
   "outputs": [
    {
     "name": "stdout",
     "output_type": "stream",
     "text": [
      "<class 'pandas.core.frame.DataFrame'>\n",
      "Int64Index: 44566 entries, 260000607562 to 250000615370\n",
      "Data columns (total 17 columns):\n",
      "NR_IDADE_DATA_POSSE                          44566 non-null int64\n",
      "DS_GRAU_INSTRUCAO                            44566 non-null int64\n",
      "DS_SIT_TOT_TURNO                             44566 non-null int64\n",
      "VR_BEM_CANDIDATO                             44566 non-null float64\n",
      "VR_PAGTO_DESPESA                             44566 non-null float64\n",
      "DS_GENERO_FEMININO                           44566 non-null uint8\n",
      "DS_GENERO_MASCULINO                          44566 non-null uint8\n",
      "DS_ESTADO_CIVIL_CASADO(A)                    44566 non-null uint8\n",
      "DS_ESTADO_CIVIL_DIVORCIADO(A)                44566 non-null uint8\n",
      "DS_ESTADO_CIVIL_SEPARADO(A) JUDICIALMENTE    44566 non-null uint8\n",
      "DS_ESTADO_CIVIL_SOLTEIRO(A)                  44566 non-null uint8\n",
      "DS_ESTADO_CIVIL_VIÚVO(A)                     44566 non-null uint8\n",
      "DS_COR_RACA_AMARELA                          44566 non-null uint8\n",
      "DS_COR_RACA_BRANCA                           44566 non-null uint8\n",
      "DS_COR_RACA_INDÍGENA                         44566 non-null uint8\n",
      "DS_COR_RACA_PARDA                            44566 non-null uint8\n",
      "DS_COR_RACA_PRETA                            44566 non-null uint8\n",
      "dtypes: float64(2), int64(3), uint8(12)\n",
      "memory usage: 2.6 MB\n"
     ]
    }
   ],
   "source": [
    "df_deputados_final_upsampled.info()"
   ]
  },
  {
   "cell_type": "code",
   "execution_count": 148,
   "metadata": {},
   "outputs": [
    {
     "data": {
      "text/plain": [
       "1    22283\n",
       "0    22283\n",
       "Name: DS_SIT_TOT_TURNO, dtype: int64"
      ]
     },
     "execution_count": 148,
     "metadata": {},
     "output_type": "execute_result"
    }
   ],
   "source": [
    "df_deputados_final_upsampled['DS_SIT_TOT_TURNO'].value_counts()"
   ]
  },
  {
   "cell_type": "code",
   "execution_count": 149,
   "metadata": {},
   "outputs": [],
   "source": [
    "from sklearn.model_selection import train_test_split"
   ]
  },
  {
   "cell_type": "code",
   "execution_count": 150,
   "metadata": {},
   "outputs": [],
   "source": [
    "X_train = df_deputados_final_upsampled.drop(['DS_SIT_TOT_TURNO'], axis = 1)\n",
    "y_train = df_deputados_final_upsampled.DS_SIT_TOT_TURNO"
   ]
  },
  {
   "cell_type": "code",
   "execution_count": 151,
   "metadata": {},
   "outputs": [
    {
     "name": "stdout",
     "output_type": "stream",
     "text": [
      "<class 'pandas.core.frame.DataFrame'>\n",
      "Int64Index: 44566 entries, 260000607562 to 250000615370\n",
      "Data columns (total 16 columns):\n",
      "NR_IDADE_DATA_POSSE                          44566 non-null int64\n",
      "DS_GRAU_INSTRUCAO                            44566 non-null int64\n",
      "VR_BEM_CANDIDATO                             44566 non-null float64\n",
      "VR_PAGTO_DESPESA                             44566 non-null float64\n",
      "DS_GENERO_FEMININO                           44566 non-null uint8\n",
      "DS_GENERO_MASCULINO                          44566 non-null uint8\n",
      "DS_ESTADO_CIVIL_CASADO(A)                    44566 non-null uint8\n",
      "DS_ESTADO_CIVIL_DIVORCIADO(A)                44566 non-null uint8\n",
      "DS_ESTADO_CIVIL_SEPARADO(A) JUDICIALMENTE    44566 non-null uint8\n",
      "DS_ESTADO_CIVIL_SOLTEIRO(A)                  44566 non-null uint8\n",
      "DS_ESTADO_CIVIL_VIÚVO(A)                     44566 non-null uint8\n",
      "DS_COR_RACA_AMARELA                          44566 non-null uint8\n",
      "DS_COR_RACA_BRANCA                           44566 non-null uint8\n",
      "DS_COR_RACA_INDÍGENA                         44566 non-null uint8\n",
      "DS_COR_RACA_PARDA                            44566 non-null uint8\n",
      "DS_COR_RACA_PRETA                            44566 non-null uint8\n",
      "dtypes: float64(2), int64(2), uint8(12)\n",
      "memory usage: 2.2 MB\n"
     ]
    }
   ],
   "source": [
    "X_train.info()"
   ]
  },
  {
   "cell_type": "code",
   "execution_count": 157,
   "metadata": {},
   "outputs": [
    {
     "data": {
      "text/plain": [
       "pandas.core.series.Series"
      ]
     },
     "execution_count": 157,
     "metadata": {},
     "output_type": "execute_result"
    }
   ],
   "source": [
    "type(y_train)"
   ]
  },
  {
   "cell_type": "code",
   "execution_count": 158,
   "metadata": {},
   "outputs": [],
   "source": [
    "xtreinamento, xteste, ytreinamento, yteste = train_test_split(X_train, y_train, random_state = 0)"
   ]
  },
  {
   "cell_type": "code",
   "execution_count": 159,
   "metadata": {},
   "outputs": [
    {
     "name": "stdout",
     "output_type": "stream",
     "text": [
      "<class 'pandas.core.frame.DataFrame'>\n",
      "Int64Index: 33424 entries, 150000612361 to 210000605946\n",
      "Data columns (total 16 columns):\n",
      "NR_IDADE_DATA_POSSE                          33424 non-null int64\n",
      "DS_GRAU_INSTRUCAO                            33424 non-null int64\n",
      "VR_BEM_CANDIDATO                             33424 non-null float64\n",
      "VR_PAGTO_DESPESA                             33424 non-null float64\n",
      "DS_GENERO_FEMININO                           33424 non-null uint8\n",
      "DS_GENERO_MASCULINO                          33424 non-null uint8\n",
      "DS_ESTADO_CIVIL_CASADO(A)                    33424 non-null uint8\n",
      "DS_ESTADO_CIVIL_DIVORCIADO(A)                33424 non-null uint8\n",
      "DS_ESTADO_CIVIL_SEPARADO(A) JUDICIALMENTE    33424 non-null uint8\n",
      "DS_ESTADO_CIVIL_SOLTEIRO(A)                  33424 non-null uint8\n",
      "DS_ESTADO_CIVIL_VIÚVO(A)                     33424 non-null uint8\n",
      "DS_COR_RACA_AMARELA                          33424 non-null uint8\n",
      "DS_COR_RACA_BRANCA                           33424 non-null uint8\n",
      "DS_COR_RACA_INDÍGENA                         33424 non-null uint8\n",
      "DS_COR_RACA_PARDA                            33424 non-null uint8\n",
      "DS_COR_RACA_PRETA                            33424 non-null uint8\n",
      "dtypes: float64(2), int64(2), uint8(12)\n",
      "memory usage: 1.7 MB\n"
     ]
    }
   ],
   "source": [
    "xtreinamento.info()"
   ]
  },
  {
   "cell_type": "code",
   "execution_count": 160,
   "metadata": {},
   "outputs": [
    {
     "name": "stdout",
     "output_type": "stream",
     "text": [
      "<class 'pandas.core.frame.DataFrame'>\n",
      "Int64Index: 11142 entries, 210000604677 to 210000604696\n",
      "Data columns (total 16 columns):\n",
      "NR_IDADE_DATA_POSSE                          11142 non-null int64\n",
      "DS_GRAU_INSTRUCAO                            11142 non-null int64\n",
      "VR_BEM_CANDIDATO                             11142 non-null float64\n",
      "VR_PAGTO_DESPESA                             11142 non-null float64\n",
      "DS_GENERO_FEMININO                           11142 non-null uint8\n",
      "DS_GENERO_MASCULINO                          11142 non-null uint8\n",
      "DS_ESTADO_CIVIL_CASADO(A)                    11142 non-null uint8\n",
      "DS_ESTADO_CIVIL_DIVORCIADO(A)                11142 non-null uint8\n",
      "DS_ESTADO_CIVIL_SEPARADO(A) JUDICIALMENTE    11142 non-null uint8\n",
      "DS_ESTADO_CIVIL_SOLTEIRO(A)                  11142 non-null uint8\n",
      "DS_ESTADO_CIVIL_VIÚVO(A)                     11142 non-null uint8\n",
      "DS_COR_RACA_AMARELA                          11142 non-null uint8\n",
      "DS_COR_RACA_BRANCA                           11142 non-null uint8\n",
      "DS_COR_RACA_INDÍGENA                         11142 non-null uint8\n",
      "DS_COR_RACA_PARDA                            11142 non-null uint8\n",
      "DS_COR_RACA_PRETA                            11142 non-null uint8\n",
      "dtypes: float64(2), int64(2), uint8(12)\n",
      "memory usage: 565.8 KB\n"
     ]
    }
   ],
   "source": [
    "xteste.info()"
   ]
  },
  {
   "cell_type": "code",
   "execution_count": 163,
   "metadata": {},
   "outputs": [
    {
     "data": {
      "text/plain": [
       "33424"
      ]
     },
     "execution_count": 163,
     "metadata": {},
     "output_type": "execute_result"
    }
   ],
   "source": [
    "ytreinamento.count()"
   ]
  },
  {
   "cell_type": "code",
   "execution_count": 164,
   "metadata": {},
   "outputs": [
    {
     "data": {
      "text/plain": [
       "11142"
      ]
     },
     "execution_count": 164,
     "metadata": {},
     "output_type": "execute_result"
    }
   ],
   "source": [
    "yteste.count()"
   ]
  },
  {
   "cell_type": "code",
   "execution_count": null,
   "metadata": {},
   "outputs": [],
   "source": [
    "from sklearn.metrics import accuracy_score, classification_report"
   ]
  },
  {
   "cell_type": "code",
   "execution_count": 165,
   "metadata": {},
   "outputs": [],
   "source": [
    "from sklearn.tree import DecisionTreeClassifier\n",
    "from sklearn import tree"
   ]
  },
  {
   "cell_type": "code",
   "execution_count": 175,
   "metadata": {},
   "outputs": [
    {
     "name": "stdout",
     "output_type": "stream",
     "text": [
      "Acurácia:  1.0\n",
      "Acurácia de previsão:  0.9744211093161013\n",
      "             precision    recall  f1-score   support\n",
      "\n",
      "          0       1.00      0.95      0.97      5495\n",
      "          1       0.95      1.00      0.98      5647\n",
      "\n",
      "avg / total       0.98      0.97      0.97     11142\n",
      "\n"
     ]
    }
   ],
   "source": [
    "deputados_tree = DecisionTreeClassifier(random_state=0)\n",
    "deputados_tree = deputados_tree.fit(xtreinamento, ytreinamento)\n",
    "print(\"Acurácia: \", deputados_tree.score(xtreinamento, ytreinamento))\n",
    "Train_predict = deputados_tree.predict(xteste)\n",
    "print(\"Acurácia de previsão: \", accuracy_score(yteste, Train_predict))\n",
    "print(classification_report(yteste, Train_predict))"
   ]
  },
  {
   "cell_type": "code",
   "execution_count": 176,
   "metadata": {},
   "outputs": [
    {
     "name": "stdout",
     "output_type": "stream",
     "text": [
      "Acurácia:  0.5857467687888942\n",
      "Acurácia de previsão:  0.5953150242326333\n",
      "             precision    recall  f1-score   support\n",
      "\n",
      "          0       1.00      0.18      0.30      5495\n",
      "          1       0.56      1.00      0.71      5647\n",
      "\n",
      "avg / total       0.77      0.60      0.51     11142\n",
      "\n"
     ]
    }
   ],
   "source": [
    "from sklearn.linear_model import LogisticRegression\n",
    "lr = LogisticRegression()\n",
    "lr = lr.fit(xtreinamento, ytreinamento)\n",
    "print(\"Acurácia: \", lr.score(xtreinamento, ytreinamento))\n",
    "tp_lr = lr.predict(xteste)\n",
    "print(\"Acurácia de previsão: \", accuracy_score(yteste, tp_lr))\n",
    "print(classification_report(yteste, tp_lr))"
   ]
  },
  {
   "cell_type": "code",
   "execution_count": 177,
   "metadata": {},
   "outputs": [
    {
     "name": "stdout",
     "output_type": "stream",
     "text": [
      "Acurácia:  0.6956677836285304\n",
      "Acurácia de previsão:  0.6850655178603482\n",
      "             precision    recall  f1-score   support\n",
      "\n",
      "          0       0.61      0.97      0.75      5495\n",
      "          1       0.93      0.41      0.57      5647\n",
      "\n",
      "avg / total       0.78      0.69      0.66     11142\n",
      "\n"
     ]
    }
   ],
   "source": [
    "from sklearn.naive_bayes import GaussianNB\n",
    "nb = GaussianNB()\n",
    "nb = nb.fit(xtreinamento, ytreinamento)\n",
    "print(\"Acurácia: \", nb.score(xtreinamento, ytreinamento))\n",
    "tp_nb = nb.predict(xteste)\n",
    "print(\"Acurácia de previsão: \", accuracy_score(yteste, tp_nb))\n",
    "print(classification_report(yteste, tp_nb))"
   ]
  },
  {
   "cell_type": "code",
   "execution_count": 178,
   "metadata": {},
   "outputs": [
    {
     "name": "stdout",
     "output_type": "stream",
     "text": [
      "Acurácia:  0.5870332695069411\n",
      "Acurácia de previsão:  0.5969305331179321\n",
      "             precision    recall  f1-score   support\n",
      "\n",
      "          0       1.00      0.18      0.31      5495\n",
      "          1       0.56      1.00      0.72      5647\n",
      "\n",
      "avg / total       0.78      0.60      0.52     11142\n",
      "\n"
     ]
    },
    {
     "name": "stderr",
     "output_type": "stream",
     "text": [
      "C:\\Users\\34572467854\\AppData\\Local\\Continuum\\anaconda3\\lib\\site-packages\\sklearn\\linear_model\\stochastic_gradient.py:128: FutureWarning: max_iter and tol parameters have been added in <class 'sklearn.linear_model.stochastic_gradient.SGDClassifier'> in 0.19. If both are left unset, they default to max_iter=5 and tol=None. If tol is not None, max_iter defaults to max_iter=1000. From 0.21, default max_iter will be 1000, and default tol will be 1e-3.\n",
      "  \"and default tol will be 1e-3.\" % type(self), FutureWarning)\n"
     ]
    }
   ],
   "source": [
    "from sklearn.linear_model import SGDClassifier\n",
    "sgd = SGDClassifier()\n",
    "sgd = sgd.fit(xtreinamento, ytreinamento)\n",
    "print(\"Acurácia: \", sgd.score(xtreinamento, ytreinamento))\n",
    "tp_sgd = sgd.predict(xteste)\n",
    "print(\"Acurácia de previsão: \", accuracy_score(yteste, tp_sgd))\n",
    "print(classification_report(yteste, tp_sgd))"
   ]
  },
  {
   "cell_type": "code",
   "execution_count": 179,
   "metadata": {},
   "outputs": [
    {
     "name": "stdout",
     "output_type": "stream",
     "text": [
      "Acurácia:  0.9576053135471517\n",
      "Acurácia de previsão:  0.9506372285047567\n",
      "             precision    recall  f1-score   support\n",
      "\n",
      "          0       1.00      0.90      0.95      5495\n",
      "          1       0.91      1.00      0.95      5647\n",
      "\n",
      "avg / total       0.96      0.95      0.95     11142\n",
      "\n"
     ]
    }
   ],
   "source": [
    "from sklearn.neighbors import KNeighborsClassifier\n",
    "knn = KNeighborsClassifier()\n",
    "knn = knn.fit(xtreinamento, ytreinamento)\n",
    "print(\"Acurácia: \", knn.score(xtreinamento, ytreinamento))\n",
    "tp_knn = knn.predict(xteste)\n",
    "print(\"Acurácia de previsão: \", accuracy_score(yteste, tp_knn))\n",
    "print(classification_report(yteste, tp_knn))"
   ]
  },
  {
   "cell_type": "code",
   "execution_count": 180,
   "metadata": {},
   "outputs": [
    {
     "name": "stdout",
     "output_type": "stream",
     "text": [
      "Acurácia:  0.9994913834370512\n",
      "Acurácia de previsão:  0.9808831448572967\n",
      "             precision    recall  f1-score   support\n",
      "\n",
      "          0       1.00      0.96      0.98      5495\n",
      "          1       0.96      1.00      0.98      5647\n",
      "\n",
      "avg / total       0.98      0.98      0.98     11142\n",
      "\n"
     ]
    }
   ],
   "source": [
    "from sklearn.ensemble import RandomForestClassifier\n",
    "rfm = RandomForestClassifier()\n",
    "rfm = rfm.fit(xtreinamento, ytreinamento)\n",
    "print(\"Acurácia: \", rfm.score(xtreinamento, ytreinamento))\n",
    "tp_rfm = rfm.predict(xteste)\n",
    "print(\"Acurácia de previsão: \", accuracy_score(yteste, tp_rfm))\n",
    "print(classification_report(yteste, tp_rfm))"
   ]
  },
  {
   "cell_type": "code",
   "execution_count": null,
   "metadata": {},
   "outputs": [],
   "source": []
  }
 ],
 "metadata": {
  "kernelspec": {
   "display_name": "Python 3",
   "language": "python",
   "name": "python3"
  },
  "language_info": {
   "codemirror_mode": {
    "name": "ipython",
    "version": 3
   },
   "file_extension": ".py",
   "mimetype": "text/x-python",
   "name": "python",
   "nbconvert_exporter": "python",
   "pygments_lexer": "ipython3",
   "version": "3.7.0"
  }
 },
 "nbformat": 4,
 "nbformat_minor": 2
}
